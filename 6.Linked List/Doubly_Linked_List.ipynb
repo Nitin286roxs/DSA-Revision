{
  "nbformat": 4,
  "nbformat_minor": 0,
  "metadata": {
    "colab": {
      "provenance": [],
      "toc_visible": true,
      "authorship_tag": "ABX9TyPNJpcqxRUSd0LpSLIwrBmi",
      "include_colab_link": true
    },
    "kernelspec": {
      "name": "python3",
      "display_name": "Python 3"
    },
    "language_info": {
      "name": "python"
    }
  },
  "cells": [
    {
      "cell_type": "markdown",
      "metadata": {
        "id": "view-in-github",
        "colab_type": "text"
      },
      "source": [
        "<a href=\"https://colab.research.google.com/github/Nitin286roxs/DSA-Revision/blob/main/6.Linked%20List/Doubly_Linked_List.ipynb\" target=\"_parent\"><img src=\"https://colab.research.google.com/assets/colab-badge.svg\" alt=\"Open In Colab\"/></a>"
      ]
    },
    {
      "cell_type": "markdown",
      "source": [
        "In the realm of data structures, it's essential to grasp the intricacies of doubly linked lists. These data structures are characterized by their ability to efficiently navigate in both forward and backward directions. Before diving into the depths of doubly linked lists, it's beneficial to recap our understanding of linked lists, and their precursor.\n",
        "\n",
        "Recap on Linked List\n",
        "\n",
        "\n",
        "Before exploring doubly linked lists, let's refresh our knowledge of linked lists. Linked lists are linear data structures consisting of nodes, each containing data and a reference (or pointer) to the next node. This setup allows for dynamic memory allocation and efficient insertions and deletions.\n",
        "\n",
        "A significant characteristic of singly linked lists is their unidirectional nature, allowing traversal in only one direction: forward. Moving backward, such as going from node 1 to node 3, is not possible because each node in a singly linked list holds two pieces of information - the data (an integer value in this case) and a pointer that indicates the address of the next node. This structure enables efficient forward navigation, but the absence of a backward pointer restricts reverse traversal.\n",
        "\n",
        "Doubly Linked Lists,  as the name suggests, take the concept of 2-way traversal by introducing two pointers in each node. This enables seamless traversal in both directions, making them a valuable tool for various advanced data structure applications."
      ],
      "metadata": {
        "id": "lliy4Zeb_9_G"
      }
    },
    {
      "cell_type": "markdown",
      "source": [
        "## Define Double linked list class"
      ],
      "metadata": {
        "id": "hwo6D_QiMwgV"
      }
    },
    {
      "cell_type": "code",
      "execution_count": 1,
      "metadata": {
        "id": "K6pDyyEu_5WV"
      },
      "outputs": [],
      "source": [
        "#class defination of Doubly Linked List\n",
        "class DLL:\n",
        "  def __init__(self, val, back=None, next=None):\n",
        "    self.val = val\n",
        "    self.back = back\n",
        "    self.next = next"
      ]
    },
    {
      "cell_type": "markdown",
      "source": [
        "## Create a double linked from a given array\n"
      ],
      "metadata": {
        "id": "eHp1BCnKJLZ5"
      }
    },
    {
      "cell_type": "code",
      "source": [
        "def array2dll(arr):\n",
        "  #TODO create head with arr[0]\n",
        "  head = DLL(arr[0])\n",
        "  curr = head\n",
        "  for i in range(1, len(arr)):\n",
        "    temp = DLL(arr[i],curr,None)\n",
        "    curr.next = temp\n",
        "    curr = temp\n",
        "  return head\n",
        "\n"
      ],
      "metadata": {
        "id": "uP1cr5eSJTe0"
      },
      "execution_count": 35,
      "outputs": []
    },
    {
      "cell_type": "markdown",
      "source": [
        "## Print double linked list"
      ],
      "metadata": {
        "id": "V_zIBQktLhWx"
      }
    },
    {
      "cell_type": "code",
      "source": [
        "def print_dll(head):\n",
        "  while head is not None:\n",
        "    print(head.val, end=\" \")\n",
        "    head = head.next"
      ],
      "metadata": {
        "id": "O0zTzVHqLlH2"
      },
      "execution_count": 36,
      "outputs": []
    },
    {
      "cell_type": "markdown",
      "source": [],
      "metadata": {
        "id": "6L6SB7bbMVRb"
      }
    },
    {
      "cell_type": "code",
      "source": [
        "head = array2dll([1, 2, 3, 4, 5, 6])\n",
        "print_dll(head)"
      ],
      "metadata": {
        "colab": {
          "base_uri": "https://localhost:8080/"
        },
        "id": "URybGRLyMWDD",
        "outputId": "75cab3bd-e959-4826-a211-14724bac6bba"
      },
      "execution_count": 54,
      "outputs": [
        {
          "output_type": "stream",
          "name": "stdout",
          "text": [
            "1 2 3 4 5 6 "
          ]
        }
      ]
    },
    {
      "cell_type": "markdown",
      "source": [
        "## Insertion node at last"
      ],
      "metadata": {
        "id": "1PDEdUblM4YB"
      }
    },
    {
      "cell_type": "code",
      "source": [
        "def insert_node_at_tail(head, val):\n",
        "  temp = head\n",
        "  # traverse till second last node\n",
        "  while temp.next is not None:\n",
        "    temp = temp.next\n",
        "\n",
        "  #create node with given value and link it to with 2nd last node\n",
        "  temp.next = DLL(val, temp, None)\n",
        "  return head\n",
        ""
      ],
      "metadata": {
        "id": "i5suMc82NBJM"
      },
      "execution_count": 46,
      "outputs": []
    },
    {
      "cell_type": "code",
      "source": [
        "head = insert_node_at_tail(head, 7)\n",
        "print_dll(head)"
      ],
      "metadata": {
        "colab": {
          "base_uri": "https://localhost:8080/"
        },
        "id": "2TUSS5zKOanw",
        "outputId": "b6dcc7fd-c44c-4981-d607-40e05bd72563"
      },
      "execution_count": 55,
      "outputs": [
        {
          "output_type": "stream",
          "name": "stdout",
          "text": [
            "1 2 3 4 5 6 7 "
          ]
        }
      ]
    },
    {
      "cell_type": "markdown",
      "source": [
        "## Deletion of last node"
      ],
      "metadata": {
        "id": "M_0q5qV5OxNV"
      }
    },
    {
      "cell_type": "code",
      "source": [
        "def delete_tail_node(head):\n",
        "  temp = head\n",
        "  # traverse till second last node\n",
        "  tail = head\n",
        "  while tail.next is not None:\n",
        "    tail = tail.next\n",
        "\n",
        "  #Remove add of 2nd last from last node and delete it\n",
        "  new_tail = tail.back\n",
        "  new_tail.next = None\n",
        "  tail.back = None\n",
        "  del tail\n",
        "  return head"
      ],
      "metadata": {
        "id": "Q2d0z3HfO2HH"
      },
      "execution_count": 48,
      "outputs": []
    },
    {
      "cell_type": "code",
      "source": [
        "print(f\"Double list before Deltion: {print_dll(head)}\")\n",
        "print(f\"Double list after Deltion: {print_dll(delete_tail_node(head))}\")\n"
      ],
      "metadata": {
        "colab": {
          "base_uri": "https://localhost:8080/"
        },
        "id": "95h1-CWFPx-x",
        "outputId": "0c1e8851-162f-47b4-cd5f-ae3641ce6828"
      },
      "execution_count": 56,
      "outputs": [
        {
          "output_type": "stream",
          "name": "stdout",
          "text": [
            "1 2 3 4 5 6 7 Double list before Deltion: None\n",
            "1 2 3 4 5 6 Double list after Deltion: None\n"
          ]
        }
      ]
    },
    {
      "cell_type": "markdown",
      "source": [
        "## Reverse of double linked list"
      ],
      "metadata": {
        "id": "_vo1z128Vzwz"
      }
    },
    {
      "cell_type": "code",
      "source": [
        "def reverse_dll(head):\n",
        "  curr = head\n",
        "  prev = None\n",
        "  while curr is not  None:\n",
        "    #TODO interchange address of back and next\n",
        "    prev = curr.back\n",
        "    temp = curr.next\n",
        "    curr.next = prev\n",
        "    curr.back = temp\n",
        "    curr = curr.back\n",
        "  return prev.back"
      ],
      "metadata": {
        "id": "vdjNWYVuV5dv"
      },
      "execution_count": 57,
      "outputs": []
    },
    {
      "cell_type": "code",
      "source": [
        "print(f\"List befor reverse:\")\n",
        "print_dll(head)"
      ],
      "metadata": {
        "colab": {
          "base_uri": "https://localhost:8080/"
        },
        "id": "VKYl3dKuWuAv",
        "outputId": "feba6e5c-ed8d-48dc-f9a2-4553ebadbbe0"
      },
      "execution_count": 58,
      "outputs": [
        {
          "output_type": "stream",
          "name": "stdout",
          "text": [
            "List befor reverse:\n",
            "1 2 3 4 5 6 "
          ]
        }
      ]
    },
    {
      "cell_type": "code",
      "source": [
        "print(f\"List befor reverse:\")\n",
        "head = reverse_dll(head)\n",
        "print_dll(head)"
      ],
      "metadata": {
        "colab": {
          "base_uri": "https://localhost:8080/"
        },
        "id": "FkWIogrkW2fg",
        "outputId": "28e90b4a-ab88-418f-d79e-e065f87e329b"
      },
      "execution_count": 59,
      "outputs": [
        {
          "output_type": "stream",
          "name": "stdout",
          "text": [
            "List befor reverse:\n",
            "6 5 4 3 2 1 "
          ]
        }
      ]
    }
  ]
}