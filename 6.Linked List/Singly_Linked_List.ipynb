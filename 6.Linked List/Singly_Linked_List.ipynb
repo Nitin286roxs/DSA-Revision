{
  "nbformat": 4,
  "nbformat_minor": 0,
  "metadata": {
    "colab": {
      "provenance": [],
      "toc_visible": true,
      "authorship_tag": "ABX9TyNMuYAcD9TPfYAW1sVgB+pr",
      "include_colab_link": true
    },
    "kernelspec": {
      "name": "python3",
      "display_name": "Python 3"
    },
    "language_info": {
      "name": "python"
    }
  },
  "cells": [
    {
      "cell_type": "markdown",
      "metadata": {
        "id": "view-in-github",
        "colab_type": "text"
      },
      "source": [
        "<a href=\"https://colab.research.google.com/github/Nitin286roxs/DSA-Revision/blob/main/6.Linked%20List/Singly_Linked_List.ipynb\" target=\"_parent\"><img src=\"https://colab.research.google.com/assets/colab-badge.svg\" alt=\"Open In Colab\"/></a>"
      ]
    },
    {
      "cell_type": "markdown",
      "source": [
        "# Linked List\n",
        "It is a linear data structure that can be visualized as a chain with different nodes connected, where each node represents a different element. The difference between arrays and linked lists is that, unlike arrays, the elements are not stored at a contiguous location.\n",
        "\n",
        "Since for any element to be added in an array, we need the exact next memory location to be empty, and it is impossible to guarantee that it is possible. Hence adding elements to an array is not possible after the initial assignment of size."
      ],
      "metadata": {
        "id": "fISRQ-FMaI_t"
      }
    },
    {
      "cell_type": "markdown",
      "source": [
        "## Creating linked list"
      ],
      "metadata": {
        "id": "5rPVDlgtag85"
      }
    },
    {
      "cell_type": "code",
      "execution_count": 1,
      "metadata": {
        "id": "3bpwzMKfaCmU"
      },
      "outputs": [],
      "source": [
        "class ListNode:\n",
        "  def __init__(self, val, next=None):\n",
        "    self.val=val\n",
        "    self.next=next"
      ]
    },
    {
      "cell_type": "markdown",
      "source": [
        "## Insertion node in list at the beginning:\n",
        "\n",
        "Time and space complexity for insertion at beginning is O(1)."
      ],
      "metadata": {
        "id": "hLhd1FAYa9Nr"
      }
    },
    {
      "cell_type": "code",
      "source": [
        "#create a insert method\n",
        "def insert_node(val, head):\n",
        "  #create Node with value , and pass head refrence in next\n",
        "  node = ListNode(val, head)\n",
        "  #now this node is our new head of linked list\n",
        "  return node"
      ],
      "metadata": {
        "id": "5HMWbV2SbZR0"
      },
      "execution_count": 2,
      "outputs": []
    },
    {
      "cell_type": "code",
      "source": [
        "#insert 2 at beginning\\\n",
        "head = None\n",
        "head = insert_node(2, head)\n",
        "#insert 1 at beginning\n",
        "head = insert_node(1, head)\n",
        "#insert 0 at beginning\n",
        "head = insert_node(0, head)"
      ],
      "metadata": {
        "id": "sPiR_WbFdJON"
      },
      "execution_count": 3,
      "outputs": []
    },
    {
      "cell_type": "markdown",
      "source": [
        "## Iterate the list"
      ],
      "metadata": {
        "id": "wcFJCs7KdoX7"
      }
    },
    {
      "cell_type": "code",
      "source": [
        "def iterate_list(head):\n",
        "  temp = head\n",
        "  while temp is not None:\n",
        "    print(temp.val)\n",
        "    temp = temp.next"
      ],
      "metadata": {
        "id": "nuCgS92Cd7jR"
      },
      "execution_count": 4,
      "outputs": []
    },
    {
      "cell_type": "code",
      "source": [
        "iterate_list(head)"
      ],
      "metadata": {
        "colab": {
          "base_uri": "https://localhost:8080/"
        },
        "id": "5geH_P40eRl5",
        "outputId": "6dc78b11-174a-4d1e-bad4-8fbe8e7249ca"
      },
      "execution_count": 5,
      "outputs": [
        {
          "output_type": "stream",
          "name": "stdout",
          "text": [
            "0\n",
            "1\n",
            "2\n"
          ]
        }
      ]
    },
    {
      "cell_type": "markdown",
      "source": [
        "## Deletion of last node\n",
        "\n",
        "Time complexity : O(N)\n",
        "Space complexity : O(1)"
      ],
      "metadata": {
        "id": "g-wyMlpifWzH"
      }
    },
    {
      "cell_type": "code",
      "source": [
        "def delete_last_node(head):\n",
        "  temp = head\n",
        "  #iterate till second last node\n",
        "  while temp.next.next is not None:\n",
        "    temp = temp.next\n",
        "  #remove the link b/w last and 2nd last node\n",
        "  temp.next = None\n",
        "  return head"
      ],
      "metadata": {
        "id": "Y8BJuhowfexl"
      },
      "execution_count": 6,
      "outputs": []
    },
    {
      "cell_type": "code",
      "source": [
        "delete_last_node(head)"
      ],
      "metadata": {
        "colab": {
          "base_uri": "https://localhost:8080/"
        },
        "id": "lYDWi5bUgVaz",
        "outputId": "7b0035ca-53d6-4798-81e5-1178a2dab0ba"
      },
      "execution_count": 7,
      "outputs": [
        {
          "output_type": "execute_result",
          "data": {
            "text/plain": [
              "<__main__.ListNode at 0x79cba2150c10>"
            ]
          },
          "metadata": {},
          "execution_count": 7
        }
      ]
    },
    {
      "cell_type": "code",
      "source": [
        "#print list after deletion\n",
        "iterate_list(head)"
      ],
      "metadata": {
        "colab": {
          "base_uri": "https://localhost:8080/"
        },
        "id": "hifQ9YHKgb4U",
        "outputId": "93e48c6d-bdc4-4732-dd39-8a80124b8823"
      },
      "execution_count": 8,
      "outputs": [
        {
          "output_type": "stream",
          "name": "stdout",
          "text": [
            "0\n",
            "1\n"
          ]
        }
      ]
    },
    {
      "cell_type": "code",
      "source": [
        "#add more element in list\n",
        "head = insert_node(3, head)\n",
        "#insert 1 at beginning\n",
        "head = insert_node(4, head)\n",
        "#insert 0 at beginning\n",
        "head = insert_node(5, head)"
      ],
      "metadata": {
        "id": "SiAR1saAg90y"
      },
      "execution_count": 9,
      "outputs": []
    },
    {
      "cell_type": "code",
      "source": [
        "#print list\n",
        "iterate_list(head)"
      ],
      "metadata": {
        "colab": {
          "base_uri": "https://localhost:8080/"
        },
        "id": "y4IcmZnyhLc_",
        "outputId": "f7fa542c-a9cf-40ec-8118-4f152cf880ac"
      },
      "execution_count": 10,
      "outputs": [
        {
          "output_type": "stream",
          "name": "stdout",
          "text": [
            "5\n",
            "4\n",
            "3\n",
            "0\n",
            "1\n"
          ]
        }
      ]
    },
    {
      "cell_type": "markdown",
      "source": [
        "## Deletion of node with give node address\n",
        "\n",
        "copy value of val and next of node's next in given node\n",
        "\n",
        "Time complexity: O(1)"
      ],
      "metadata": {
        "id": "MNbjkZULgvj2"
      }
    },
    {
      "cell_type": "code",
      "source": [
        "def delete_node(node):\n",
        "  #copy value of val and next of node's next in given node\n",
        "  node.val = node.next.val\n",
        "  node.next = node.next.next"
      ],
      "metadata": {
        "id": "gghoEWbag-Ia"
      },
      "execution_count": 11,
      "outputs": []
    },
    {
      "cell_type": "code",
      "source": [
        "#deleting third node in list\n",
        "print(f\"List Before deletion:\")\n",
        "iterate_list(head)\n",
        "delete_node(head.next.next)\n",
        "print(f\"List after Deletion:\")\n",
        "iterate_list(head)"
      ],
      "metadata": {
        "colab": {
          "base_uri": "https://localhost:8080/"
        },
        "id": "nai7CMGujYMy",
        "outputId": "4474316c-0779-46dd-a140-f2d700161431"
      },
      "execution_count": 12,
      "outputs": [
        {
          "output_type": "stream",
          "name": "stdout",
          "text": [
            "List Before deletion:\n",
            "5\n",
            "4\n",
            "3\n",
            "0\n",
            "1\n",
            "List after Deletion:\n",
            "5\n",
            "4\n",
            "0\n",
            "1\n"
          ]
        }
      ]
    },
    {
      "cell_type": "markdown",
      "source": [
        "## Find the length of list\n",
        "\n",
        "Iterate list till end\n",
        "Time Complexity: O(N)"
      ],
      "metadata": {
        "id": "2PWGJWcQj71D"
      }
    },
    {
      "cell_type": "code",
      "source": [
        "def list_len(head):\n",
        "  temp = head\n",
        "  length = 0\n",
        "  while temp != None:\n",
        "    length += 1\n",
        "    temp = temp.next\n",
        "  return length\n",
        "\n",
        "print(f\"Legth of linked list: {list_len(head)}\")"
      ],
      "metadata": {
        "colab": {
          "base_uri": "https://localhost:8080/"
        },
        "id": "eC-dLW9skNHR",
        "outputId": "575b9afc-9f2a-4db7-b157-2512ebc151fe"
      },
      "execution_count": 13,
      "outputs": [
        {
          "output_type": "stream",
          "name": "stdout",
          "text": [
            "Legth of linked list: 4\n"
          ]
        }
      ]
    },
    {
      "cell_type": "markdown",
      "source": [
        "## Seach Element in Linked List\n",
        "\n",
        "Iterate till None, check in loop if element found return true else iterate till end and return false after the loop\n",
        "\n",
        "Time Complextity: O(N)"
      ],
      "metadata": {
        "id": "fF3dW02PktnH"
      }
    },
    {
      "cell_type": "code",
      "source": [
        "def search_element(head, ele):\n",
        "  temp = head\n",
        "  while temp is not None:\n",
        "    if temp.val == ele:\n",
        "      return True\n",
        "    temp = temp.next\n",
        "  return False\n",
        "\n",
        "print(f\"Element 1 is present in list: {search_element(head, 1)}\")\n",
        "print(f\"Element 6 is present in list: {search_element(head, 6)}\")"
      ],
      "metadata": {
        "colab": {
          "base_uri": "https://localhost:8080/"
        },
        "id": "IXaQSCf6lOe9",
        "outputId": "a75a0442-2ce3-4c9c-8570-87631be937bf"
      },
      "execution_count": 14,
      "outputs": [
        {
          "output_type": "stream",
          "name": "stdout",
          "text": [
            "Element 1 is present in list: True\n",
            "Element 6 is present in list: False\n"
          ]
        }
      ]
    },
    {
      "cell_type": "markdown",
      "source": [
        "## Reverse Singly Linked List"
      ],
      "metadata": {
        "id": "w5DVcWxFSU5Q"
      }
    },
    {
      "cell_type": "markdown",
      "source": [],
      "metadata": {
        "id": "FsEMQVxl_DOx"
      }
    },
    {
      "cell_type": "code",
      "source": [
        "print(\"Linked list before reverse:\")\n",
        "iterate_list(head)\n",
        "def reverse(head):\n",
        "  prev = None\n",
        "  curr = head\n",
        "  while curr is not None:\n",
        "    temp = curr.next\n",
        "    curr.next = prev\n",
        "    prev = curr\n",
        "    curr = temp\n",
        "  head = prev\n",
        "  return head\n",
        "print(\"Linked list After reverse:\")\n",
        "head = reverse(head)\n",
        "iterate_list(head)"
      ],
      "metadata": {
        "colab": {
          "base_uri": "https://localhost:8080/"
        },
        "id": "nHqCR22ISZ69",
        "outputId": "3ae5a6ba-3d1b-4fc3-d9fb-691f9f4ddccd"
      },
      "execution_count": 15,
      "outputs": [
        {
          "output_type": "stream",
          "name": "stdout",
          "text": [
            "Linked list before reverse:\n",
            "5\n",
            "4\n",
            "0\n",
            "1\n",
            "Linked list After reverse:\n",
            "1\n",
            "0\n",
            "4\n",
            "5\n"
          ]
        }
      ]
    },
    {
      "cell_type": "markdown",
      "source": [
        "## Fast and Slow pointor approach and some problem related with it\n",
        "\n",
        "In this approach, we keep two pointors with named slow_ptr and fast_ptr. slow_ptr move one step at a time while fast_ptr moves twice fast as slow_ptr.\n",
        "\n",
        "Some famous problem related to this apporoach:\n",
        "### 1.Middle elememnt of the Linked List\n",
        "### 2.Loop in given List\n",
        "### 3.Intersection point between two list (a node in both list is common)\n",
        "### 4.Find nth element from tail in lisy"
      ],
      "metadata": {
        "id": "DppFFysD_KV5"
      }
    },
    {
      "cell_type": "markdown",
      "source": [
        "### Find 2nd element from end, and delete it"
      ],
      "metadata": {
        "id": "OT5Yc9rGA5mL"
      }
    },
    {
      "cell_type": "code",
      "source": [
        "def nth_node_from_tail(head, n):\n",
        "  slow_ptr = head\n",
        "  fast_ptr = head\n",
        "  #fisrt find length of list\n",
        "  list_len = 0\n",
        "  while slow_ptr is not None:\n",
        "    list_len +=1\n",
        "    slow_ptr = slow_ptr.next\n",
        "  #check if n value is valid\n",
        "  if n > list_len:\n",
        "    return -1\n",
        "\n",
        "  slow_ptr = head\n",
        "  prev = None\n",
        "  i = 0\n",
        "  while i < (list_len - n):\n",
        "    prev = slow_ptr\n",
        "    slow_ptr = slow_ptr.next\n",
        "    fast_ptr = fast_ptr.next.next\n",
        "    i += 1\n",
        "\n",
        "  print(f\"{n}th element from tail is : {slow_ptr.val}\")\n",
        "  #case one if list len is one and n == 1, return empty list\n",
        "  if list_len == 1 and n ==list_len:\n",
        "    return None\n",
        "  else:\n",
        "    if slow_ptr.next is None:\n",
        "      prev.next = None\n",
        "      return head\n",
        "    else:\n",
        "      slow_ptr.val = slow_ptr.next.val\n",
        "      slow_ptr.next = slow_ptr.next.next\n",
        "      return head"
      ],
      "metadata": {
        "id": "PniZYoH0_dBm"
      },
      "execution_count": 16,
      "outputs": []
    },
    {
      "cell_type": "code",
      "source": [
        "print(\"Linked list before Deletion of nth node from end:\")\n",
        "iterate_list(head)"
      ],
      "metadata": {
        "colab": {
          "base_uri": "https://localhost:8080/"
        },
        "id": "AXcJzAACE8JX",
        "outputId": "f623da79-34e5-4ba5-93ca-0465c018ecec"
      },
      "execution_count": 17,
      "outputs": [
        {
          "output_type": "stream",
          "name": "stdout",
          "text": [
            "Linked list before Deletion of nth node from end:\n",
            "1\n",
            "0\n",
            "4\n",
            "5\n"
          ]
        }
      ]
    },
    {
      "cell_type": "code",
      "source": [
        "print(\"Linked list after Deletion of nth node from end:\")\n",
        "head = nth_node_from_tail(head,3)\n",
        "iterate_list(head)"
      ],
      "metadata": {
        "colab": {
          "base_uri": "https://localhost:8080/"
        },
        "id": "kDvCRcerFIlB",
        "outputId": "362cd343-61b9-4fbf-fcb2-5c667c7bef22"
      },
      "execution_count": 18,
      "outputs": [
        {
          "output_type": "stream",
          "name": "stdout",
          "text": [
            "Linked list after Deletion of nth node from end:\n",
            "3th element from tail is : 0\n",
            "1\n",
            "4\n",
            "5\n"
          ]
        }
      ]
    },
    {
      "cell_type": "markdown",
      "source": [
        "### Reorder List\n",
        "You are given the head of a singly linked-list. The list can be represented as:\n",
        "\n",
        "L0 → L1 → … → Ln - 1 → Ln\n",
        "Reorder the list to be on the following form:\n",
        "\n",
        "L0 → Ln → L1 → Ln - 1 → L2 → Ln - 2 → …\n",
        "**You may not modify the values in the list's nodes. Only nodes themselves may be changed**.\n",
        "\n",
        "Input: head = [1,2,3,4]\n",
        "Output: [1,4,2,3]\n",
        "\n",
        "Input: head = [1,2,3,4,5]\n",
        "Output: [1,5,2,4,3]\n",
        "\n",
        "Constraints:\n",
        "\n",
        "The number of nodes in the list is in the range [1, 5 * 104]\n",
        "\n",
        "1 <= Node.val <= 1000"
      ],
      "metadata": {
        "id": "idSFMGpXGzP5"
      }
    },
    {
      "cell_type": "code",
      "source": [
        "def reorderList(head) :\n",
        "        \"\"\"\n",
        "        Do not return anything, modify head in-place instead.\n",
        "        \"\"\"\n",
        "        if head.next == None:\n",
        "            return head\n",
        "        slow_ptr = head\n",
        "        fast_ptr = head\n",
        "        #TODO Get Mid first\n",
        "        prev = None\n",
        "        while slow_ptr != None and (fast_ptr != None and fast_ptr.next != None ):\n",
        "            prev = slow_ptr\n",
        "            slow_ptr=slow_ptr.next\n",
        "            fast_ptr=fast_ptr.next.next\n",
        "\n",
        "        #reverse 2nd Half\n",
        "        head_2nd_half = slow_ptr\n",
        "        head_2nd_half = reverse(head_2nd_half)\n",
        "        prev.next = None\n",
        "        #merge both list alternately\n",
        "        ptr1=head\n",
        "        ptr2=head_2nd_half\n",
        "        ptr2_next = None\n",
        "        ptr1_prev = None\n",
        "        while ptr1 is not None and ptr2 is not None:\n",
        "            ptr2_next = ptr2.next\n",
        "            ptr2.next = ptr1.next\n",
        "            ptr1.next = ptr2\n",
        "            tail = ptr1.next\n",
        "\n",
        "            ptr1 = ptr2.next\n",
        "            ptr2 = ptr2_next\n",
        "\n",
        "        if ptr2:\n",
        "            tail.next = ptr2\n",
        "print(\"Linked list before reorder:\")\n",
        "iterate_list(head)\n",
        "reorderList(head)\n",
        "\n",
        "print(\"Linked list after reorder:\")\n",
        "iterate_list(head)"
      ],
      "metadata": {
        "colab": {
          "base_uri": "https://localhost:8080/"
        },
        "id": "Vbw1qsNxHM0N",
        "outputId": "791aa231-38b2-4f65-f0f1-659661a60f1a"
      },
      "execution_count": 19,
      "outputs": [
        {
          "output_type": "stream",
          "name": "stdout",
          "text": [
            "Linked list before reorder:\n",
            "1\n",
            "4\n",
            "5\n",
            "Linked list after reorder:\n",
            "1\n",
            "5\n",
            "4\n"
          ]
        }
      ]
    }
  ]
}