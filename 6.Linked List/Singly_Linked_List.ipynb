{
  "nbformat": 4,
  "nbformat_minor": 0,
  "metadata": {
    "colab": {
      "provenance": [],
      "toc_visible": true,
      "authorship_tag": "ABX9TyOuEQl1etzvKL7PQIPS3AxF",
      "include_colab_link": true
    },
    "kernelspec": {
      "name": "python3",
      "display_name": "Python 3"
    },
    "language_info": {
      "name": "python"
    }
  },
  "cells": [
    {
      "cell_type": "markdown",
      "metadata": {
        "id": "view-in-github",
        "colab_type": "text"
      },
      "source": [
        "<a href=\"https://colab.research.google.com/github/Nitin286roxs/DSA-Revision/blob/main/6.Linked%20List/Singly_Linked_List.ipynb\" target=\"_parent\"><img src=\"https://colab.research.google.com/assets/colab-badge.svg\" alt=\"Open In Colab\"/></a>"
      ]
    },
    {
      "cell_type": "markdown",
      "source": [
        "# Linked List\n",
        "It is a linear data structure that can be visualized as a chain with different nodes connected, where each node represents a different element. The difference between arrays and linked lists is that, unlike arrays, the elements are not stored at a contiguous location.\n",
        "\n",
        "Since for any element to be added in an array, we need the exact next memory location to be empty, and it is impossible to guarantee that it is possible. Hence adding elements to an array is not possible after the initial assignment of size."
      ],
      "metadata": {
        "id": "fISRQ-FMaI_t"
      }
    },
    {
      "cell_type": "markdown",
      "source": [
        "## Creating linked list"
      ],
      "metadata": {
        "id": "5rPVDlgtag85"
      }
    },
    {
      "cell_type": "code",
      "execution_count": null,
      "metadata": {
        "id": "3bpwzMKfaCmU"
      },
      "outputs": [],
      "source": [
        "class ListNode:\n",
        "  def __init__(self, val, next=None):\n",
        "    self.val=val\n",
        "    self.next=next"
      ]
    },
    {
      "cell_type": "markdown",
      "source": [
        "## Insertion node in list at the beginning:\n",
        "\n",
        "Time and space complexity for insertion at beginning is O(1)."
      ],
      "metadata": {
        "id": "hLhd1FAYa9Nr"
      }
    },
    {
      "cell_type": "code",
      "source": [
        "#create a insert method\n",
        "def insert_node(val, head):\n",
        "  #create Node with value , and pass head refrence in next\n",
        "  node = ListNode(val, head)\n",
        "  #now this node is our new head of linked list\n",
        "  return node"
      ],
      "metadata": {
        "id": "5HMWbV2SbZR0"
      },
      "execution_count": null,
      "outputs": []
    },
    {
      "cell_type": "code",
      "source": [
        "#insert 2 at beginning\\\n",
        "head = None\n",
        "head = insert_node(2, head)\n",
        "#insert 1 at beginning\n",
        "head = insert_node(1, head)\n",
        "#insert 0 at beginning\n",
        "head = insert_node(0, head)"
      ],
      "metadata": {
        "id": "sPiR_WbFdJON"
      },
      "execution_count": null,
      "outputs": []
    },
    {
      "cell_type": "markdown",
      "source": [
        "## Iterate the list"
      ],
      "metadata": {
        "id": "wcFJCs7KdoX7"
      }
    },
    {
      "cell_type": "code",
      "source": [
        "def iterate_list(head):\n",
        "  temp = head\n",
        "  while temp is not None:\n",
        "    print(temp.val)\n",
        "    temp = temp.next"
      ],
      "metadata": {
        "id": "nuCgS92Cd7jR"
      },
      "execution_count": null,
      "outputs": []
    },
    {
      "cell_type": "code",
      "source": [
        "iterate_list(head)"
      ],
      "metadata": {
        "colab": {
          "base_uri": "https://localhost:8080/"
        },
        "id": "5geH_P40eRl5",
        "outputId": "283a6a48-b7d7-40b9-8353-439e4268bffe"
      },
      "execution_count": null,
      "outputs": [
        {
          "output_type": "stream",
          "name": "stdout",
          "text": [
            "0\n",
            "1\n",
            "2\n"
          ]
        }
      ]
    },
    {
      "cell_type": "markdown",
      "source": [
        "## Deletion of last node\n",
        "\n",
        "Time complexity : O(N)\n",
        "Space complexity : O(1)"
      ],
      "metadata": {
        "id": "g-wyMlpifWzH"
      }
    },
    {
      "cell_type": "code",
      "source": [
        "def delete_last_node(head):\n",
        "  temp = head\n",
        "  #iterate till second last node\n",
        "  while temp.next.next is not None:\n",
        "    temp = temp.next\n",
        "  #remove the link b/w last and 2nd last node\n",
        "  temp.next = None\n",
        "  return head"
      ],
      "metadata": {
        "id": "Y8BJuhowfexl"
      },
      "execution_count": null,
      "outputs": []
    },
    {
      "cell_type": "code",
      "source": [
        "delete_last_node(head)"
      ],
      "metadata": {
        "colab": {
          "base_uri": "https://localhost:8080/"
        },
        "id": "lYDWi5bUgVaz",
        "outputId": "51158ef7-90cf-4a44-d342-995ac3272f41"
      },
      "execution_count": null,
      "outputs": [
        {
          "output_type": "execute_result",
          "data": {
            "text/plain": [
              "<__main__.ListNode at 0x7f2a4e8c7520>"
            ]
          },
          "metadata": {},
          "execution_count": 35
        }
      ]
    },
    {
      "cell_type": "code",
      "source": [
        "#print list after deletion\n",
        "iterate_list(head)"
      ],
      "metadata": {
        "colab": {
          "base_uri": "https://localhost:8080/"
        },
        "id": "hifQ9YHKgb4U",
        "outputId": "5a45e9c5-9f52-4671-a542-f702917d6871"
      },
      "execution_count": null,
      "outputs": [
        {
          "output_type": "stream",
          "name": "stdout",
          "text": [
            "0\n",
            "1\n"
          ]
        }
      ]
    },
    {
      "cell_type": "code",
      "source": [
        "#add more element in list\n",
        "head = insert_node(3, head)\n",
        "#insert 1 at beginning\n",
        "head = insert_node(4, head)\n",
        "#insert 0 at beginning\n",
        "head = insert_node(5, head)"
      ],
      "metadata": {
        "id": "SiAR1saAg90y"
      },
      "execution_count": null,
      "outputs": []
    },
    {
      "cell_type": "code",
      "source": [
        "#print list\n",
        "iterate_list(head)"
      ],
      "metadata": {
        "colab": {
          "base_uri": "https://localhost:8080/"
        },
        "id": "y4IcmZnyhLc_",
        "outputId": "a60527f8-a375-425b-a906-95a6d6073fc0"
      },
      "execution_count": null,
      "outputs": [
        {
          "output_type": "stream",
          "name": "stdout",
          "text": [
            "5\n",
            "4\n",
            "3\n",
            "0\n",
            "1\n"
          ]
        }
      ]
    },
    {
      "cell_type": "markdown",
      "source": [
        "## Deletion of node with give node address\n",
        "\n",
        "copy value of val and next of node's next in given node\n",
        "\n",
        "Time complexity: O(1)"
      ],
      "metadata": {
        "id": "MNbjkZULgvj2"
      }
    },
    {
      "cell_type": "code",
      "source": [
        "def delete_node(node):\n",
        "  #copy value of val and next of node's next in given node\n",
        "  node.val = node.next.val\n",
        "  node.next = node.next.next"
      ],
      "metadata": {
        "id": "gghoEWbag-Ia"
      },
      "execution_count": null,
      "outputs": []
    },
    {
      "cell_type": "code",
      "source": [
        "#deleting third node in list\n",
        "print(f\"List Before deletion:\")\n",
        "iterate_list(head)\n",
        "delete_node(head.next.next)\n",
        "print(f\"List after Deletion:\")\n",
        "iterate_list(head)"
      ],
      "metadata": {
        "colab": {
          "base_uri": "https://localhost:8080/"
        },
        "id": "nai7CMGujYMy",
        "outputId": "720410c8-361c-49df-ab0b-eb18e36dd95a"
      },
      "execution_count": null,
      "outputs": [
        {
          "output_type": "stream",
          "name": "stdout",
          "text": [
            "List Before deletion:\n",
            "5\n",
            "4\n",
            "3\n",
            "0\n",
            "1\n",
            "List after Deletion:\n",
            "5\n",
            "4\n",
            "0\n",
            "1\n"
          ]
        }
      ]
    },
    {
      "cell_type": "markdown",
      "source": [
        "## Find the length of list\n",
        "\n",
        "Iterate list till end\n",
        "Time Complexity: O(N)"
      ],
      "metadata": {
        "id": "2PWGJWcQj71D"
      }
    },
    {
      "cell_type": "code",
      "source": [
        "def list_len(head):\n",
        "  temp = head\n",
        "  length = 0\n",
        "  while temp != None:\n",
        "    length += 1\n",
        "    temp = temp.next\n",
        "  return length\n",
        "\n",
        "print(f\"Legth of linked list: {list_len(head)}\")"
      ],
      "metadata": {
        "colab": {
          "base_uri": "https://localhost:8080/"
        },
        "id": "eC-dLW9skNHR",
        "outputId": "21d83d7c-effd-4d06-8a7e-9aa9d18d8d9d"
      },
      "execution_count": null,
      "outputs": [
        {
          "output_type": "stream",
          "name": "stdout",
          "text": [
            "Legth of linked list: 4\n"
          ]
        }
      ]
    },
    {
      "cell_type": "markdown",
      "source": [
        "## Seach Element in Linked List\n",
        "\n",
        "Iterate till None, check in loop if element found return true else iterate till end and return false after the loop\n",
        "\n",
        "Time Complextity: O(N)"
      ],
      "metadata": {
        "id": "fF3dW02PktnH"
      }
    },
    {
      "cell_type": "code",
      "source": [
        "def search_element(head, ele):\n",
        "  temp = head\n",
        "  while temp is not None:\n",
        "    if temp.val == ele:\n",
        "      return True\n",
        "    temp = temp.next\n",
        "  return False\n",
        "\n",
        "print(f\"Element 1 is present in list: {search_element(head, 1)}\")\n",
        "print(f\"Element 6 is present in list: {search_element(head, 6)}\")"
      ],
      "metadata": {
        "colab": {
          "base_uri": "https://localhost:8080/"
        },
        "id": "IXaQSCf6lOe9",
        "outputId": "11f7d2c4-cafd-4d8c-ee94-58cc4abd75f4"
      },
      "execution_count": null,
      "outputs": [
        {
          "output_type": "stream",
          "name": "stdout",
          "text": [
            "Element 1 is present in list: True\n",
            "Element 6 is present in list: False\n"
          ]
        }
      ]
    },
    {
      "cell_type": "markdown",
      "source": [
        "## Reverse Singly Linked List"
      ],
      "metadata": {
        "id": "w5DVcWxFSU5Q"
      }
    },
    {
      "cell_type": "code",
      "source": [
        "print(\"Linked list before reverse:\")\n",
        "iterate_list(head)\n",
        "def reverse(head):\n",
        "  prev = None\n",
        "  curr = head\n",
        "  while curr is not None:\n",
        "    temp = curr.next\n",
        "    curr.next = prev\n",
        "    prev = curr\n",
        "    curr = temp\n",
        "  head = prev\n",
        "  return head\n",
        "print(\"Linked list After reverse:\")\n",
        "head = reverse(head)\n",
        "iterate_list(head)"
      ],
      "metadata": {
        "colab": {
          "base_uri": "https://localhost:8080/"
        },
        "id": "nHqCR22ISZ69",
        "outputId": "e748fc7c-36b4-4b2c-9ef6-32084e4111fa"
      },
      "execution_count": null,
      "outputs": [
        {
          "output_type": "stream",
          "name": "stdout",
          "text": [
            "Linked list before reverse:\n",
            "5\n",
            "4\n",
            "0\n",
            "1\n",
            "Linked list After reverse:\n",
            "1\n",
            "0\n",
            "4\n",
            "5\n"
          ]
        }
      ]
    }
  ]
}