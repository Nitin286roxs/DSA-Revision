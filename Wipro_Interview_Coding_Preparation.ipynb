{
  "nbformat": 4,
  "nbformat_minor": 0,
  "metadata": {
    "colab": {
      "provenance": [],
      "authorship_tag": "ABX9TyP46v3Iy4HpRfUwUrL48OzS",
      "include_colab_link": true
    },
    "kernelspec": {
      "name": "python3",
      "display_name": "Python 3"
    },
    "language_info": {
      "name": "python"
    }
  },
  "cells": [
    {
      "cell_type": "markdown",
      "metadata": {
        "id": "view-in-github",
        "colab_type": "text"
      },
      "source": [
        "<a href=\"https://colab.research.google.com/github/Nitin286roxs/DSA-Revision/blob/main/Wipro_Interview_Coding_Preparation.ipynb\" target=\"_parent\"><img src=\"https://colab.research.google.com/assets/colab-badge.svg\" alt=\"Open In Colab\"/></a>"
      ]
    },
    {
      "cell_type": "markdown",
      "source": [
        "# Permutation of given string"
      ],
      "metadata": {
        "id": "Ucrx29MYtYme"
      }
    },
    {
      "cell_type": "code",
      "execution_count": 11,
      "metadata": {
        "colab": {
          "base_uri": "https://localhost:8080/"
        },
        "id": "VQ_ZlFIxtJQY",
        "outputId": "b38246bf-bdaf-4660-c8ad-0d92c310eff4"
      },
      "outputs": [
        {
          "output_type": "stream",
          "name": "stdout",
          "text": [
            "Enter number of test cases: 1\n",
            "Enter a string: 123\n",
            "Time taken get All permutation of string : ['123', '132', '213', '231', '312', '321'], 0msec\n"
          ]
        }
      ],
      "source": [
        "class Solution:\n",
        "  def __init__(self, ):\n",
        "    self.all_permuts=[]\n",
        "    self.n=None\n",
        "    self.curr_permut=[]\n",
        "    self.chars=None\n",
        "  def solv_permutaion(self):\n",
        "    #Base condition\n",
        "    if len(self.curr_permut)==self.n:\n",
        "      self.all_permuts.append(\"\".join(self.curr_permut))\n",
        "      return\n",
        "    #hypothesis\n",
        "    for i in range(len(self.chars)):\n",
        "      self.curr_permut.append(self.chars[i])\n",
        "      popped_char=self.chars.pop(i)\n",
        "      self.solv_permutaion()\n",
        "      #Backtrack\n",
        "      self.curr_permut.pop()\n",
        "      self.chars.insert(i, popped_char)\n",
        "\n",
        "  def get_all_permuts(self, string):\n",
        "    self.chars=[ch for ch in string]\n",
        "    self.n=len(self.chars)\n",
        "    self.solv_permutaion()\n",
        "\n",
        "import time\n",
        "obj=Solution()\n",
        "t=int(input(\"Enter number of test cases: \"))\n",
        "i=0\n",
        "while i<t:\n",
        "  input_str=input(\"Enter a string: \")\n",
        "  start_time=int(time.time()*1000)\n",
        "  obj.get_all_permuts(input_str )\n",
        "  end_time=int(time.time()*1000)\n",
        "  print(f\"Time taken get All permutation of string : {(obj.all_permuts)}, {end_time-start_time}msec\")\n",
        "  i+=1\n"
      ]
    },
    {
      "cell_type": "markdown",
      "source": [
        "## 3Sum\n",
        "Given an integer array nums, return all the triplets [nums[i], nums[j], nums[k]] such that i != j, i != k, and j != k, and nums[i] + nums[j] + nums[k] == 0.\n",
        "\n",
        "Notice that the solution set must not contain duplicate triplets.\n",
        "\n",
        "\n",
        "\n",
        "Example 1:\n",
        "\n",
        "Input: nums = [-1,0,1,2,-1,-4]\n",
        "Output: [[-1,-1,2],[-1,0,1]]\n",
        "Explanation:\n",
        "nums[0] + nums[1] + nums[2] = (-1) + 0 + 1 = 0.\n",
        "nums[1] + nums[2] + nums[4] = 0 + 1 + (-1) = 0.\n",
        "nums[0] + nums[3] + nums[4] = (-1) + 2 + (-1) = 0.\n",
        "The distinct triplets are [-1,0,1] and [-1,-1,2].\n",
        "Notice that the order of the output and the order of the triplets does not matter.\n"
      ],
      "metadata": {
        "id": "2W5rWtm3HG1K"
      }
    },
    {
      "cell_type": "code",
      "source": [
        "class Solution:\n",
        "  def get_3_sum(self, arr):\n",
        "    n=len(arr)\n",
        "    arr=sorted(arr)\n",
        "\n",
        "    resSet=set()\n",
        "    for i in range(n):\n",
        "      target=-arr[i]\n",
        "      l=i+1\n",
        "      r=n-1\n",
        "      while l < r:\n",
        "        two_sum=arr[l]+arr[r]\n",
        "        if target > two_sum:\n",
        "          l+=1\n",
        "        elif target < two_sum:\n",
        "          r-=1\n",
        "        elif two_sum==target:\n",
        "          resSet.add((arr[i],arr[l], arr[r]))\n",
        "          l+=1\n",
        "          r-=1\n",
        "    return list(resSet)\n",
        "obj=Solution()\n",
        "arr=[int(x) for x in input().strip().split(' ')]\n",
        "print(obj.get_3_sum(arr))"
      ],
      "metadata": {
        "id": "jVtjlDc7VhDf",
        "colab": {
          "base_uri": "https://localhost:8080/"
        },
        "outputId": "4835c0a7-c73b-48a0-8e7b-aa9c927661c6"
      },
      "execution_count": 4,
      "outputs": [
        {
          "output_type": "stream",
          "name": "stdout",
          "text": [
            "-1 0 1 2 -1 -4\n",
            "[(-1, 0, 1), (-1, -1, 2)]\n"
          ]
        }
      ]
    },
    {
      "cell_type": "markdown",
      "source": [
        "## Maximum product Subarray\n",
        "Given an integer array nums, find a\n",
        "subarray\n",
        " that has the largest product, and return the product.\n",
        "\n",
        "The test cases are generated so that the answer will fit in a 32-bit integer.\n",
        "\n",
        "\n",
        "\n",
        "Example 1:\n",
        "\n",
        "Input: nums = [2,3,-2,4]\n",
        "Output: 6\n",
        "Explanation: [2,3] has the largest product 6."
      ],
      "metadata": {
        "id": "qaJkifcUl9Si"
      }
    },
    {
      "cell_type": "code",
      "source": [
        "class MaxProduct:\n",
        "  def get_max_product(self, arr):\n",
        "    n=len(arr)\n",
        "    max_prod=arr[0]\n",
        "    curr_max=arr[0]\n",
        "    curr_min=arr[0]\n",
        "    for i in range(1, n):\n",
        "      temp=max(arr[i], curr_max*arr[i], curr_min*arr[i])\n",
        "      curr_min=min(arr[i], curr_max*arr[i], curr_min*arr[i])\n",
        "      curr_max=temp\n",
        "      max_prod=max(curr_max, max_prod)\n",
        "    return max_prod\n",
        "obj=MaxProduct()\n",
        "arr=[int(x) for x in input().strip().split(' ')]\n",
        "print(obj.get_max_product(arr))\n"
      ],
      "metadata": {
        "colab": {
          "base_uri": "https://localhost:8080/"
        },
        "id": "wjTH9z5gl99-",
        "outputId": "b6591b69-5b05-4fd8-88fe-d3e1ff5a8ba8"
      },
      "execution_count": 9,
      "outputs": [
        {
          "output_type": "stream",
          "name": "stdout",
          "text": [
            "-2 6 -3 -10 0 2\n",
            "180\n"
          ]
        }
      ]
    },
    {
      "cell_type": "markdown",
      "source": [],
      "metadata": {
        "id": "kY5CBjZYu_CN"
      }
    }
  ]
}