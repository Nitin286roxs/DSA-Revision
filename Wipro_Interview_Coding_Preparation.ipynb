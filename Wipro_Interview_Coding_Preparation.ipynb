{
  "nbformat": 4,
  "nbformat_minor": 0,
  "metadata": {
    "colab": {
      "provenance": [],
      "authorship_tag": "ABX9TyP6bBx7Cutb+V3sP6oam1Vt",
      "include_colab_link": true
    },
    "kernelspec": {
      "name": "python3",
      "display_name": "Python 3"
    },
    "language_info": {
      "name": "python"
    }
  },
  "cells": [
    {
      "cell_type": "markdown",
      "metadata": {
        "id": "view-in-github",
        "colab_type": "text"
      },
      "source": [
        "<a href=\"https://colab.research.google.com/github/Nitin286roxs/DSA-Revision/blob/main/Wipro_Interview_Coding_Preparation.ipynb\" target=\"_parent\"><img src=\"https://colab.research.google.com/assets/colab-badge.svg\" alt=\"Open In Colab\"/></a>"
      ]
    },
    {
      "cell_type": "markdown",
      "source": [
        "# Permutation of given string"
      ],
      "metadata": {
        "id": "Ucrx29MYtYme"
      }
    },
    {
      "cell_type": "code",
      "execution_count": 1,
      "metadata": {
        "colab": {
          "base_uri": "https://localhost:8080/"
        },
        "id": "VQ_ZlFIxtJQY",
        "outputId": "9a50495b-1b1b-4bff-b964-f8bc8cc5ea80"
      },
      "outputs": [
        {
          "output_type": "stream",
          "name": "stdout",
          "text": [
            "Enter number of test cases: 1\n",
            "Enter a string: 123\n",
            "Time taken get All permutation of string : ['123', '132', '213', '231', '312', '321'], 0msec\n"
          ]
        }
      ],
      "source": [
        "class Solution:\n",
        "  def __init__(self, ):\n",
        "    self.all_permuts=[]\n",
        "    self.n=None\n",
        "    self.curr_permut=[]\n",
        "    self.chars=None\n",
        "  def solv_permutaion(self):\n",
        "    #Base condition\n",
        "    if len(self.curr_permut)==self.n:\n",
        "      self.all_permuts.append(\"\".join(self.curr_permut))\n",
        "      return\n",
        "    #hypothesis\n",
        "    for i in range(len(self.chars)):\n",
        "      self.curr_permut.append(self.chars[i])\n",
        "      popped_char=self.chars.pop(i)\n",
        "      self.solv_permutaion()\n",
        "      #Backtrack\n",
        "      self.curr_permut.pop()\n",
        "      self.chars.insert(i, popped_char)\n",
        "\n",
        "  def get_all_permuts(self, string):\n",
        "    self.chars=[ch for ch in string]\n",
        "    self.n=len(self.chars)\n",
        "    self.solv_permutaion()\n",
        "\n",
        "import time\n",
        "obj=Solution()\n",
        "t=int(input(\"Enter number of test cases: \"))\n",
        "i=0\n",
        "while i<t:\n",
        "  input_str=input(\"Enter a string: \")\n",
        "  start_time=int(time.time()*1000)\n",
        "  obj.get_all_permuts(input_str )\n",
        "  end_time=int(time.time()*1000)\n",
        "  print(f\"Time taken get All permutation of string : {(obj.all_permuts)}, {end_time-start_time}msec\")\n",
        "  i+=1\n"
      ]
    },
    {
      "cell_type": "markdown",
      "source": [
        "## 3Sum\n",
        "Given an integer array nums, return all the triplets [nums[i], nums[j], nums[k]] such that i != j, i != k, and j != k, and nums[i] + nums[j] + nums[k] == 0.\n",
        "\n",
        "Notice that the solution set must not contain duplicate triplets.\n",
        "\n",
        "\n",
        "\n",
        "Example 1:\n",
        "\n",
        "Input: nums = [-1,0,1,2,-1,-4]\n",
        "Output: [[-1,-1,2],[-1,0,1]]\n",
        "Explanation:\n",
        "nums[0] + nums[1] + nums[2] = (-1) + 0 + 1 = 0.\n",
        "nums[1] + nums[2] + nums[4] = 0 + 1 + (-1) = 0.\n",
        "nums[0] + nums[3] + nums[4] = (-1) + 2 + (-1) = 0.\n",
        "The distinct triplets are [-1,0,1] and [-1,-1,2].\n",
        "Notice that the order of the output and the order of the triplets does not matter.\n"
      ],
      "metadata": {
        "id": "2W5rWtm3HG1K"
      }
    },
    {
      "cell_type": "code",
      "source": [
        "class Solution:\n",
        "  def get_3_sum(self, arr):\n",
        "    n=len(arr)\n",
        "    arr=sorted(arr)\n",
        "\n",
        "    resSet=set()\n",
        "    for i in range(n):\n",
        "      target=-arr[i]\n",
        "      l=i+1\n",
        "      r=n-1\n",
        "      while l < r:\n",
        "        two_sum=arr[l]+arr[r]\n",
        "        if target > two_sum:\n",
        "          l+=1\n",
        "        elif target < two_sum:\n",
        "          r-=1\n",
        "        elif two_sum==target:\n",
        "          resSet.add((arr[i],arr[l], arr[r]))\n",
        "          l+=1\n",
        "          r-=1\n",
        "    return list(resSet)\n",
        "obj=Solution()\n",
        "arr=[int(x) for x in input().strip().split(' ')]\n",
        "print(obj.get_3_sum(arr))"
      ],
      "metadata": {
        "id": "jVtjlDc7VhDf",
        "colab": {
          "base_uri": "https://localhost:8080/"
        },
        "outputId": "2fd63282-a72b-4ca3-eebd-e94d1b881371"
      },
      "execution_count": 2,
      "outputs": [
        {
          "output_type": "stream",
          "name": "stdout",
          "text": [
            "-1 0 1 2 -1 -4\n",
            "[(-1, 0, 1), (-1, -1, 2)]\n"
          ]
        }
      ]
    },
    {
      "cell_type": "markdown",
      "source": [
        "## Maximum product Subarray\n",
        "Given an integer array nums, find a\n",
        "subarray\n",
        " that has the largest product, and return the product.\n",
        "\n",
        "The test cases are generated so that the answer will fit in a 32-bit integer.\n",
        "\n",
        "\n",
        "\n",
        "Example 1:\n",
        "\n",
        "Input: nums = [2,3,-2,4]\n",
        "Output: 6\n",
        "Explanation: [2,3] has the largest product 6."
      ],
      "metadata": {
        "id": "qaJkifcUl9Si"
      }
    },
    {
      "cell_type": "code",
      "source": [
        "class MaxProduct:\n",
        "  def get_max_product(self, arr):\n",
        "    n=len(arr)\n",
        "    max_prod=arr[0]\n",
        "    curr_max=arr[0]\n",
        "    curr_min=arr[0]\n",
        "    for i in range(1, n):\n",
        "      temp=max(arr[i], curr_max*arr[i], curr_min*arr[i])\n",
        "      curr_min=min(arr[i], curr_max*arr[i], curr_min*arr[i])\n",
        "      curr_max=temp\n",
        "      max_prod=max(curr_max, max_prod)\n",
        "    return max_prod\n",
        "obj=MaxProduct()\n",
        "arr=[int(x) for x in input().strip().split(' ')]\n",
        "print(obj.get_max_product(arr))\n"
      ],
      "metadata": {
        "colab": {
          "base_uri": "https://localhost:8080/"
        },
        "id": "wjTH9z5gl99-",
        "outputId": "763d33b7-a257-4d5d-8105-567bb9423b1c"
      },
      "execution_count": 3,
      "outputs": [
        {
          "output_type": "stream",
          "name": "stdout",
          "text": [
            "-2 6 -3 -10 0 2\n",
            "180\n"
          ]
        }
      ]
    },
    {
      "cell_type": "markdown",
      "source": [
        "## Search in rotated array\n",
        "There is an integer array nums sorted in ascending order (with distinct values).\n",
        "\n",
        "Prior to being passed to your function, nums is possibly rotated at an unknown pivot index k (1 <= k < nums.length) such that the resulting array is [nums[k], nums[k+1], ..., nums[n-1], nums[0], nums[1], ..., nums[k-1]] (0-indexed). For example, [0,1,2,4,5,6,7] might be rotated at pivot index 3 and become [4,5,6,7,0,1,2].\n",
        "\n",
        "Given the array nums after the possible rotation and an integer target, return the index of target if it is in nums, or -1 if it is not in nums.\n",
        "\n",
        "You must write an algorithm with O(log n) runtime complexity.\n",
        "\n",
        "\n",
        "\n",
        "Example 1:\n",
        "\n",
        "Input: nums = [4,5,6,7,0,1,2], target = 0\n",
        "Output: 4"
      ],
      "metadata": {
        "id": "kY5CBjZYu_CN"
      }
    },
    {
      "cell_type": "code",
      "source": [
        "class Solution:\n",
        "    def search(self, nums, target):\n",
        "        l, r = 0, len(nums)-1\n",
        "        while l <= r:\n",
        "            # array is sorted\n",
        "\n",
        "            mid = (l + r) //2\n",
        "            if nums[mid] == target:\n",
        "                return mid\n",
        "            #First half is sorted\n",
        "            if nums[l] <= nums[mid]:\n",
        "                if nums[mid] > target and nums[l] <= target:\n",
        "                    #target is in first half\n",
        "                    r=mid-1\n",
        "                else:\n",
        "                    l=mid+1\n",
        "\n",
        "            #Second half is sorted\n",
        "            else:\n",
        "                if nums[mid] < target and nums[r] >= target:\n",
        "                    #target is in first half\n",
        "                    l=mid+1\n",
        "                else:\n",
        "                    r=mid-1\n",
        "\n",
        "        return -1\n",
        "obj=Solution()\n",
        "arr=[int(x) for x in input(\"Enter the array: \").strip().split(\" \")]\n",
        "target=int(input(\"Enter the number to search: \"))\n",
        "print(obj.search(arr, target))"
      ],
      "metadata": {
        "colab": {
          "base_uri": "https://localhost:8080/"
        },
        "id": "HnbAS3bUCXYq",
        "outputId": "fdf3b849-cd16-44bb-9805-75e9b167f7ef"
      },
      "execution_count": 5,
      "outputs": [
        {
          "output_type": "stream",
          "name": "stdout",
          "text": [
            "Enter the array: 4 5 6 7 0 1 2\n",
            "Enter the number to search: 1\n",
            "5\n"
          ]
        }
      ]
    },
    {
      "cell_type": "markdown",
      "source": [
        "153. Find Minimum in Rotated Sorted Array\n",
        "Solved\n",
        "Medium\n",
        "Topics\n",
        "Companies\n",
        "Hint\n",
        "Suppose an array of length n sorted in ascending order is rotated between 1 and n times. For example, the array nums = [0,1,2,4,5,6,7] might become:\n",
        "\n",
        "[4,5,6,7,0,1,2] if it was rotated 4 times.\n",
        "[0,1,2,4,5,6,7] if it was rotated 7 times.\n",
        "Notice that rotating an array [a[0], a[1], a[2], ..., a[n-1]] 1 time results in the array [a[n-1], a[0], a[1], a[2], ..., a[n-2]].\n",
        "\n",
        "Given the sorted rotated array nums of unique elements, return the minimum element of this array.\n",
        "\n",
        "You must write an algorithm that runs in O(log n) time.\n",
        "\n",
        "\n",
        "\n",
        "Example 1:\n",
        "\n",
        "Input: nums = [3,4,5,1,2]\n",
        "Output: 1\n",
        "Explanation: The original array was [1,2,3,4,5] rotated 3 times."
      ],
      "metadata": {
        "id": "vQT4Bu4ND5QW"
      }
    },
    {
      "cell_type": "code",
      "source": [
        "class Solution:\n",
        "  def get_min_number(self, arr):\n",
        "    l, r = 0, len(arr)-1\n",
        "    while l<r:\n",
        "      if arr[l] <= arr[r]:\n",
        "        return arr[l]\n",
        "      mid=(l+r)//2\n",
        "      #second half is not sorted\n",
        "      if arr[mid] > arr[r]:\n",
        "        l=mid+1\n",
        "      else:\n",
        "        r=mid\n",
        "\n",
        "    return arr[l]\n",
        "obj=Solution()\n",
        "arr=[int(x) for x in input(\"Enter the array: \").strip().split(\" \")]\n",
        "print(obj.get_min_number(arr))"
      ],
      "metadata": {
        "colab": {
          "base_uri": "https://localhost:8080/"
        },
        "id": "HXZfZgirEGnc",
        "outputId": "e960515c-6f0f-45b8-8760-26bd78b60bf8"
      },
      "execution_count": 7,
      "outputs": [
        {
          "output_type": "stream",
          "name": "stdout",
          "text": [
            "Enter the array: 3 4 5 1 2\n",
            "1\n"
          ]
        }
      ]
    }
  ]
}