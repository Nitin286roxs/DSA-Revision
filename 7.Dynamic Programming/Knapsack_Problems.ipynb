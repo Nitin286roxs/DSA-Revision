{
  "nbformat": 4,
  "nbformat_minor": 0,
  "metadata": {
    "colab": {
      "provenance": [],
      "toc_visible": true,
      "authorship_tag": "ABX9TyOkjYanvQnPlqwjasRj9BKr",
      "include_colab_link": true
    },
    "kernelspec": {
      "name": "python3",
      "display_name": "Python 3"
    },
    "language_info": {
      "name": "python"
    }
  },
  "cells": [
    {
      "cell_type": "markdown",
      "metadata": {
        "id": "view-in-github",
        "colab_type": "text"
      },
      "source": [
        "<a href=\"https://colab.research.google.com/github/Nitin286roxs/DSA-Revision/blob/main/7.Dynamic%20Programming/Knapsack_Problems.ipynb\" target=\"_parent\"><img src=\"https://colab.research.google.com/assets/colab-badge.svg\" alt=\"Open In Colab\"/></a>"
      ]
    },
    {
      "cell_type": "markdown",
      "source": [
        "# 1.O-1 Knapsack Problem\n",
        "Given N items where each item has some weight and profit associated with it and also given a bag with capacity W, [i.e., the bag can hold at most W weight in it]. The task is to put the items into the bag such that the sum of profits associated with them is the maximum possible.\n",
        "\n",
        "Note: The constraint here is we can either put an item completely into the bag or cannot put it at all [It is not possible to put a part of an item into the bag].\n",
        "\n",
        "Examples:\n",
        "\n",
        "Input: N = 3, W = 4, profit[] = {1, 2, 3}, weight[] = {4, 5, 1}\n",
        "Output: 3\n",
        "Explanation: There are two items which have weight less than or equal to 4. If we select the item with weight 4, the possible profit is 1. And if we select the item with weight 1, the possible profit is 3. So the maximum possible profit is 3. Note that we cannot put both the items with weight 4 and 1 together as the capacity of the bag is 4.\n",
        "\n",
        "Input: N = 3, W = 3, profit[] = {1, 2, 3}, weight[] = {4, 5, 6}\n",
        "Output: 0"
      ],
      "metadata": {
        "id": "4-jeYABQzX7O"
      }
    },
    {
      "cell_type": "code",
      "execution_count": null,
      "metadata": {
        "id": "_pjRP7tkzTlI"
      },
      "outputs": [],
      "source": [
        "class Solution:\n",
        "    def knapsack(self, wt, val, w, n):\n",
        "        #print(wt, val, w, n-1)\n",
        "        #Base Condition\n",
        "        if n == 0 or w == 0:\n",
        "          return 0\n",
        "        #Choice Diagram code\n",
        "        if wt[n-1] <= w:\n",
        "            return max( val[n-1] + self.knapsack(wt, val, w-wt[n-1], n-1),\n",
        "                     self.knapsack(wt, val, w, n-1))\n",
        "        elif wt[n-1] > w:\n",
        "            return self.knapsack(wt, val, w, n-1)"
      ]
    },
    {
      "cell_type": "code",
      "source": [
        "obj = Solution()\n",
        "val = [int(x) for x in  input(\"Enter the profit list:\").strip().split(\" \")]\n",
        "wt = [int(x) for x in  input(\"Enter the weight list:\").strip().split(\" \")]\n",
        "w = int(input(\"Enter the capicity of knapsack:\"))\n",
        "print(f\"Maximum profit acheived: {obj.knapsack(wt, val, w, len(wt))}\")"
      ],
      "metadata": {
        "colab": {
          "base_uri": "https://localhost:8080/"
        },
        "id": "bszQ-OQe0-6J",
        "outputId": "5a46f382-11cf-4054-a984-568719abdbf8"
      },
      "execution_count": null,
      "outputs": [
        {
          "output_type": "stream",
          "name": "stdout",
          "text": [
            "Enter the profit list:60 100 120\n",
            "Enter the weight list:10 20 30\n",
            "Enter the capicity of knapsack:50\n",
            "Maximum profit acheived: 220\n"
          ]
        }
      ]
    },
    {
      "cell_type": "markdown",
      "source": [
        "# 2.0/1 Knapsack Memorization Method"
      ],
      "metadata": {
        "id": "UnedaykI4OgP"
      }
    },
    {
      "cell_type": "code",
      "source": [
        "class Solution:\n",
        "    def memorization_knapsack(self, wt, val, w, n):\n",
        "        #print(wt, val, w, n-1)\n",
        "        t = [[-1 for j in range(w +1)] for j in range(n+1)]\n",
        "        #Base Condition\n",
        "        if n == 0 or w == 0:\n",
        "          return 0\n",
        "        if t[n][w] != -1:\n",
        "          return t[n][w]\n",
        "        #Choice Diagram code\n",
        "        if wt[n-1] <= w:\n",
        "            t[n][w] = max( val[n-1] + self.memorization_knapsack(wt, val, w-wt[n-1], n-1),\n",
        "                     self.memorization_knapsack(wt, val, w, n-1))\n",
        "            return t[n][w]\n",
        "        elif wt[n-1] > w:\n",
        "            t[n][w] = self.memorization_knapsack(wt, val, w, n-1)\n",
        "            return t[n][w]"
      ],
      "metadata": {
        "id": "ytZKIa3cPips"
      },
      "execution_count": 11,
      "outputs": []
    },
    {
      "cell_type": "code",
      "source": [
        "obj = Solution()\n",
        "val = [int(x) for x in  input(\"Enter the profit list:\").strip().split(\" \")]\n",
        "wt = [int(x) for x in  input(\"Enter the weight list:\").strip().split(\" \")]\n",
        "w = int(input(\"Enter the capicity of knapsack:\"))\n",
        "print(f\"Maximum profit acheived: {obj.memorization_knapsack(wt, val, w, len(wt))}\")"
      ],
      "metadata": {
        "id": "sCcYmtKKPi-P",
        "colab": {
          "base_uri": "https://localhost:8080/"
        },
        "outputId": "f871fa11-9570-468c-885f-8ceb94b53c6a"
      },
      "execution_count": 12,
      "outputs": [
        {
          "output_type": "stream",
          "name": "stdout",
          "text": [
            "Enter the profit list:60 100 120\n",
            "Enter the weight list:10 20 30\n",
            "Enter the capicity of knapsack:50\n",
            "Maximum profit acheived: 220\n"
          ]
        }
      ]
    },
    {
      "cell_type": "markdown",
      "source": [
        "# 3.0/1 Knapsack Top-down: Method\n",
        "Given N items where each item has some weight and profit associated with it and also given a bag with capacity W, [i.e., the bag can hold at most W weight in it]. The task is to put the items into the bag such that the sum of profits associated with them is the maximum possible.\n",
        "\n",
        "Note: The constraint here is we can either put an item completely into the bag or cannot put it at all [It is not possible to put a part of an item into the bag].\n",
        "\n",
        "Examples:\n",
        "\n",
        "Input: N = 3, W = 4, profit[] = {1, 2, 3}, weight[] = {4, 5, 1}\n",
        "Output: 3\n",
        "Explanation: There are two items which have weight less than or equal to 4. If we select the item with weight 4, the possible profit is 1. And if we select the item with weight 1, the possible profit is 3. So the maximum possible profit is 3. Note that we cannot put both the items with weight 4 and 1 together as the capacity of the bag is 4.\n",
        "\n",
        "Input: N = 3, W = 3, profit[] = {1, 2, 3}, weight[] = {4, 5, 6}\n",
        "Output: 0"
      ],
      "metadata": {
        "id": "5SrSyBtpPjU7"
      }
    },
    {
      "cell_type": "code",
      "source": [
        "class Solution:\n",
        "    def topdown01knapsack(self, wt, val, w, n):\n",
        "        #Create a matrix for top down approach\n",
        "        t = [[0 for j in range(w +1)] for j in range(n + 1)]\n",
        "        #print(t)\n",
        "\n",
        "        #Top down approach implementation\n",
        "        for i in range(n +1):\n",
        "            for j in range(w + 1):\n",
        "                if i == 0 or j == 0:\n",
        "                    t[i][j] = 0\n",
        "                elif wt[i-1] <= j:\n",
        "                    t[i][j] = max(val[i-1] + t[i-1][j-wt[i-1]] , t[i-1][j])\n",
        "                else:\n",
        "                    t[i][j] = t[i-1][j]\n",
        "        #print(t)\n",
        "        return t[n][w]"
      ],
      "metadata": {
        "id": "PLWzjigcPxJq"
      },
      "execution_count": 22,
      "outputs": []
    },
    {
      "cell_type": "code",
      "source": [
        "obj = Solution()\n",
        "val = [int(x) for x in input(\"Enter the profit array: \").strip().split(\" \")]\n",
        "wt = [int(x) for x in input(\"Enter the weight array: \").strip().split(\" \")]\n",
        "w = int(input(\"Enter the capecity of knapsack:\"))\n",
        "print(f\"Maximum profit: {obj.topdown01knapsack(wt, val, w, len(wt))}\")"
      ],
      "metadata": {
        "colab": {
          "base_uri": "https://localhost:8080/"
        },
        "id": "89lWxh_EPxPS",
        "outputId": "f56453ca-79ad-424c-c790-d033079fe1db"
      },
      "execution_count": 24,
      "outputs": [
        {
          "output_type": "stream",
          "name": "stdout",
          "text": [
            "Enter the profit array: 60 100 120\n",
            "Enter the weight array: 10 20 30\n",
            "Enter the capecity of knapsack:50\n",
            "[[0, 0, 0, 0, 0, 0, 0, 0, 0, 0, 0, 0, 0, 0, 0, 0, 0, 0, 0, 0, 0, 0, 0, 0, 0, 0, 0, 0, 0, 0, 0, 0, 0, 0, 0, 0, 0, 0, 0, 0, 0, 0, 0, 0, 0, 0, 0, 0, 0, 0, 0], [0, 0, 0, 0, 0, 0, 0, 0, 0, 0, 60, 60, 60, 60, 60, 60, 60, 60, 60, 60, 60, 60, 60, 60, 60, 60, 60, 60, 60, 60, 60, 60, 60, 60, 60, 60, 60, 60, 60, 60, 60, 60, 60, 60, 60, 60, 60, 60, 60, 60, 60], [0, 0, 0, 0, 0, 0, 0, 0, 0, 0, 60, 60, 60, 60, 60, 60, 60, 60, 60, 60, 100, 100, 100, 100, 100, 100, 100, 100, 100, 100, 160, 160, 160, 160, 160, 160, 160, 160, 160, 160, 160, 160, 160, 160, 160, 160, 160, 160, 160, 160, 160], [0, 0, 0, 0, 0, 0, 0, 0, 0, 0, 60, 60, 60, 60, 60, 60, 60, 60, 60, 60, 100, 100, 100, 100, 100, 100, 100, 100, 100, 100, 160, 160, 160, 160, 160, 160, 160, 160, 160, 160, 180, 180, 180, 180, 180, 180, 180, 180, 180, 180, 220]]\n",
            "Maximum profit: 220\n"
          ]
        }
      ]
    },
    {
      "cell_type": "markdown",
      "source": [
        "# 4.Subset Sum Method Using Top-Down Method"
      ],
      "metadata": {
        "id": "bCkD3CZkPx3H"
      }
    },
    {
      "cell_type": "code",
      "source": [
        "class Solution:\n",
        "    def subsetSum(self, nums, target_sum):\n",
        "        #Create a matrix for top down approach\n",
        "        t = [[False for j in range(target_sum +1)] for j in range(len(nums)+1)]\n",
        "        #print(t)\n",
        "        #Intialize the matrix\n",
        "        for j in range(target_sum + 1):\n",
        "            t[0][j] = False\n",
        "        for i in range(len(nums)+1):\n",
        "            t[i][0] = True\n",
        "\n",
        "        #Top down approach implementation\n",
        "        for i in range(1, len(nums)+1):\n",
        "            for j in range(1, target_sum + 1):\n",
        "                if nums[i-1] <= j:\n",
        "                    t[i][j] = t[i-1][j-nums[i-1]] or t[i-1][j]\n",
        "                else:\n",
        "                    t[i][j] = t[i-1][j]\n",
        "        #print(t)\n",
        "        return t[len(nums)][target_sum]"
      ],
      "metadata": {
        "id": "KfGgOW8WQEn3"
      },
      "execution_count": null,
      "outputs": []
    },
    {
      "cell_type": "code",
      "source": [
        "obj = Solution()\n",
        "arr = [int(x) for x in input(\"Enter an array: \").strip().split(\" \")]\n",
        "sum = int(input(\"Enter the value:\"))\n",
        "print(f\"subset sum is possible for given array: {obj.subsetSum(arr, sum)}\")"
      ],
      "metadata": {
        "colab": {
          "base_uri": "https://localhost:8080/"
        },
        "id": "9G6CETcvQEre",
        "outputId": "ba852f87-45db-4be0-dcac-1d04e3fa6ca4"
      },
      "execution_count": null,
      "outputs": [
        {
          "output_type": "stream",
          "name": "stdout",
          "text": [
            "Enter an array: 1 5 5 10\n",
            "Enter the value:10\n",
            "subset sum is possible for given array: True\n"
          ]
        }
      ]
    },
    {
      "cell_type": "markdown",
      "source": [
        "# 6.Equal Sum partition of an array using Top Down Approach\n",
        "[Partition Equal Subset Sum](https://leetcode.com/problems/partition-equal-subset-sum/description/)\n",
        "\n",
        "Given an integer array nums, return true if you can partition the array into two subsets such that the sum of the elements in both subsets is equal or false otherwise.\n",
        "\n",
        "\n",
        "\n",
        "Example 1:\n",
        "\n",
        "Input: nums = [1,5,11,5]\n",
        "Output: true\n",
        "Explanation: The array can be partitioned as [1, 5, 5] and [11].\n",
        "Example 2:\n",
        "\n",
        "Input: nums = [1,2,3,5]\n",
        "Output: false\n",
        "Explanation: The array cannot be partitioned into equal sum subsets.\n",
        "\n",
        "\n",
        "Constraints:\n",
        "\n",
        "1 <= nums.length <= 200\n",
        "1 <= nums[i] <= 100"
      ],
      "metadata": {
        "id": "nrd-MJugQFFU"
      }
    },
    {
      "cell_type": "code",
      "source": [
        "class Solution:\n",
        "    def canPartition(self, nums):\n",
        "        #corner case\n",
        "        arr_sum = sum(nums)\n",
        "        if arr_sum%2 != 0:\n",
        "            return False\n",
        "        target_sum = arr_sum//2\n",
        "        #Create a matrix for top down approach\n",
        "        t = [[False for j in range(target_sum +1)] for j in range(len(nums)+1)]\n",
        "        #print(t)\n",
        "        #Intialize the matrix\n",
        "        for j in range(target_sum + 1):\n",
        "            t[0][j] = False\n",
        "        for i in range(len(nums)+1):\n",
        "            t[i][0] = True\n",
        "\n",
        "        #Top down approach implementation\n",
        "        for i in range(1, len(nums)+1):\n",
        "            for j in range(1, target_sum + 1):\n",
        "                if nums[i-1] <= j:\n",
        "                    t[i][j] = t[i-1][j-nums[i-1]] or t[i-1][j]\n",
        "                else:\n",
        "                    t[i][j] = t[i-1][j]\n",
        "        #print(t)\n",
        "        return t[len(nums)][target_sum]"
      ],
      "metadata": {
        "id": "-kG6S_IvQR0y"
      },
      "execution_count": null,
      "outputs": []
    },
    {
      "cell_type": "code",
      "source": [
        "obj = Solution()\n",
        "arr = [int(x) for x in input(\"Enter an array: \").strip().split(\" \")]\n",
        "print(f\"Equal sum partition exists is possible for given array: {obj.canPartition(arr)}\")"
      ],
      "metadata": {
        "colab": {
          "base_uri": "https://localhost:8080/"
        },
        "id": "rBECDma5QR4r",
        "outputId": "b1fe73a9-7842-4545-e3e6-3f9a4fe33695"
      },
      "execution_count": null,
      "outputs": [
        {
          "output_type": "stream",
          "name": "stdout",
          "text": [
            "Enter an array: 1 5 11 5\n",
            "Equal sum partition exists is possible for given array: True\n"
          ]
        }
      ]
    },
    {
      "cell_type": "markdown",
      "source": [
        "# 7.Count of subset sum with given sum\n",
        "Given an array arr of size n of non-negative integers and an integer sum, the task is to count all subsets of the given array with a sum equal to a given sum.\n",
        "\n",
        "Note: Answer can be very large, so, output answer modulo 109+7.\n",
        "\n",
        "Examples:\n",
        "\n",
        "Input:\n",
        "n = 6, arr = [5, 2, 3, 10, 6, 8], sum = 10\n",
        "Output:\n",
        "3\n",
        "Explanation:\n",
        "{5, 2, 3}, {2, 8}, {10} are possible subsets"
      ],
      "metadata": {
        "id": "e9QTnd_oQSOi"
      }
    },
    {
      "cell_type": "code",
      "source": [
        "class Solution:\n",
        "    def countsubsetSum(self, nums, target_sum):\n",
        "        #Create a matrix for top down approach\n",
        "        t = [[0 for j in range(target_sum +1)] for j in range(len(nums)+1)]\n",
        "        #print(t)\n",
        "        #Intialize the matrix\n",
        "        for j in range(target_sum + 1):\n",
        "            t[0][j] = 0\n",
        "        for i in range(len(nums)+1):\n",
        "            t[i][0] = 1\n",
        "\n",
        "        #Top down approach implementation\n",
        "        for i in range(1, len(nums)+1):\n",
        "            for j in range(1, target_sum + 1):\n",
        "                if nums[i-1] <= j:\n",
        "                    t[i][j] = t[i-1][j-nums[i-1]] + t[i-1][j]\n",
        "                else:\n",
        "                    t[i][j] = t[i-1][j]\n",
        "        #print(t)\n",
        "        return t[len(nums)][target_sum]"
      ],
      "metadata": {
        "id": "UCm-mz4AUR1q"
      },
      "execution_count": null,
      "outputs": []
    },
    {
      "cell_type": "code",
      "source": [
        "obj = Solution()\n",
        "arr = [int(x) for x in input(\"Enter an array: \").strip().split(\" \")]\n",
        "sum = int(input(\"Enter the value:\"))\n",
        "print(f\"No. of subset sum is possible for given array: {obj.countsubsetSum(arr, sum)}\")"
      ],
      "metadata": {
        "colab": {
          "base_uri": "https://localhost:8080/"
        },
        "id": "WbqW7Me7QgKh",
        "outputId": "e6601f24-bb6b-40fe-c0fe-341dbcf23441"
      },
      "execution_count": null,
      "outputs": [
        {
          "output_type": "stream",
          "name": "stdout",
          "text": [
            "Enter an array: 5 2 3 10 6 8\n",
            "Enter the value:10\n",
            "No. of subset sum is possible for given array: 3\n"
          ]
        }
      ]
    }
  ]
}