{
  "nbformat": 4,
  "nbformat_minor": 0,
  "metadata": {
    "colab": {
      "provenance": [],
      "toc_visible": true,
      "authorship_tag": "ABX9TyO5iGlEvA0HxwZ26WgT17YB",
      "include_colab_link": true
    },
    "kernelspec": {
      "name": "python3",
      "display_name": "Python 3"
    },
    "language_info": {
      "name": "python"
    }
  },
  "cells": [
    {
      "cell_type": "markdown",
      "metadata": {
        "id": "view-in-github",
        "colab_type": "text"
      },
      "source": [
        "<a href=\"https://colab.research.google.com/github/Nitin286roxs/DSA-Revision/blob/main/7.Dynamic%20Programming/Longest_Common_Subsequence.ipynb\" target=\"_parent\"><img src=\"https://colab.research.google.com/assets/colab-badge.svg\" alt=\"Open In Colab\"/></a>"
      ]
    },
    {
      "cell_type": "markdown",
      "source": [
        "# 1.Longest Common Subsequence\n",
        "Given two strings text1 and text2, return the length of their longest common subsequence. If there is no common subsequence, return 0.\n",
        "\n",
        "A subsequence of a string is a new string generated from the original string with some characters (can be none) deleted without changing the relative order of the remaining characters.\n",
        "\n",
        "For example, \"ace\" is a subsequence of \"abcde\".\n",
        "A common subsequence of two strings is a subsequence that is common to both strings.\n",
        "\n",
        "\n",
        "\n",
        "Example 1:\n",
        "\n",
        "Input: text1 = \"abcde\", text2 = \"ace\"\n",
        "Output: 3  \n",
        "Explanation: The longest common subsequence is \"ace\" and its length is 3.\n"
      ],
      "metadata": {
        "id": "4V7bzOn_HyAe"
      }
    },
    {
      "cell_type": "code",
      "execution_count": null,
      "metadata": {
        "id": "uJ6g_myMHsnW",
        "colab": {
          "base_uri": "https://localhost:8080/"
        },
        "outputId": "608ac5ba-238b-452d-938c-4b91ff266601"
      },
      "outputs": [
        {
          "output_type": "stream",
          "name": "stdout",
          "text": [
            "Enter string1: abcde\n",
            "Enter string2: ace\n",
            "Longest common subsequence: 3\n"
          ]
        }
      ],
      "source": [
        "class Solution:\n",
        "  def solv_lcs(self, str1, str2):\n",
        "    len1=len(str1)\n",
        "    len2=len(str2)\n",
        "\n",
        "    #\n",
        "    t=[[0 for j in range(len2)] for i in range(len1)]\n",
        "    #row 1 and coloumn initializtion\n",
        "    if str1[0] == str2[0]:\n",
        "      t[0][0] = 1\n",
        "    else:\n",
        "      t[0][0] = 0\n",
        "    #0th row initialization\n",
        "    for i in range(1, len2):\n",
        "      if str1[0] == str2[i]:\n",
        "        t[0][i] = 1\n",
        "      else:\n",
        "        t[0][i] = t[0][i-1]\n",
        "    #0th col initialization\n",
        "    for i in range(1, len2):\n",
        "      if str1[i] == str2[0]:\n",
        "        t[i][0] = 1\n",
        "      else:\n",
        "        t[i][0] = t[i-1][0]\n",
        "\n",
        "    #choice diagram code\n",
        "    for i in range(1,len1):\n",
        "      for j in range(1,len2):\n",
        "        if str1[i] == str2[j]:\n",
        "          t[i][j] = 1 + t[i-1][j-1]\n",
        "        else:\n",
        "          t[i][j] = max(t[i-1][j], t[i][j-1])\n",
        "    return t[len1 - 1][len2 - 1]\n",
        "\n",
        "obj = Solution()\n",
        "print(f'Longest common subsequence: {obj.solv_lcs(input(\"Enter string1: \"), input(\"Enter string2: \"))}')"
      ]
    },
    {
      "cell_type": "markdown",
      "source": [
        "# 2.Print Longest Common Subsequence\n"
      ],
      "metadata": {
        "id": "-SBbyHartqXk"
      }
    },
    {
      "cell_type": "code",
      "source": [
        "class Solution:\n",
        "  def solv_lcs(self, str1, str2):\n",
        "    len1=len(str1)\n",
        "    len2=len(str2)\n",
        "\n",
        "    t=[[0 for j in range(len2+1)] for i in range(len1+1)]\n",
        "    #0th row initialization\n",
        "    for i in range(len2+1):\n",
        "      t[0][i] = 1\n",
        "    #0th col initialization\n",
        "    for i in range(len1+1):\n",
        "      t[i][0] = 1\n",
        "\n",
        "    #choice diagram code\n",
        "    for i in range(1,len1+1):\n",
        "      for j in range(1,len2+1):\n",
        "        if str1[i-1] == str2[j-1]:\n",
        "          t[i][j] = 1 + t[i-1][j-1]\n",
        "        else:\n",
        "          t[i][j] = max(t[i-1][j], t[i][j-1])\n",
        "\n",
        "    lcs_str = []\n",
        "    #print(t, str1, str2, i ,j)\n",
        "    while i > 0 and j > 0:\n",
        "      #print(lcs_str, i, j, str1[i], str2[j], t[i-1][j], t[i][j-1], t[i][j])\n",
        "      if str1[i-1] == str2[j-1]:\n",
        "        lcs_str.insert(0,str1[i-1])\n",
        "        i -= 1\n",
        "        j -= 1\n",
        "      elif t[i-1][j]>=t[i][j-1]:\n",
        "        i -= 1\n",
        "      else:\n",
        "        j -= 1\n",
        "\n",
        "\n",
        "    return  lcs_str\n",
        "'''\n",
        "Enter string1: bcacaaab\n",
        "Enter string2: bbabaccc\n",
        "'''\n",
        "obj = Solution()\n",
        "print(f'Longest common subsequence: {obj.solv_lcs(input(\"Enter string1: \"), input(\"Enter string2: \"))}')"
      ],
      "metadata": {
        "colab": {
          "base_uri": "https://localhost:8080/"
        },
        "id": "OzAdIcw8tytq",
        "outputId": "34e0011b-0cc7-4cdd-beaa-a86102e16360"
      },
      "execution_count": 3,
      "outputs": [
        {
          "output_type": "stream",
          "name": "stdout",
          "text": [
            "Enter string1: bcacaaab\n",
            "Enter string2: bbabaccc\n",
            "Longest common subsequence: ['b', 'c', 'c']\n"
          ]
        }
      ]
    },
    {
      "cell_type": "code",
      "source": [
        "li = []\n",
        "li.insert(0, \"a\")\n",
        "li.insert(0, \"b\")\n",
        "print(li)\n"
      ],
      "metadata": {
        "colab": {
          "base_uri": "https://localhost:8080/"
        },
        "id": "d5o5nA70uRdT",
        "outputId": "9cba4e1c-eb1b-4609-f113-962ec46e00d4"
      },
      "execution_count": null,
      "outputs": [
        {
          "output_type": "stream",
          "name": "stdout",
          "text": [
            "['b', 'a']\n"
          ]
        }
      ]
    },
    {
      "cell_type": "markdown",
      "source": [
        "# 3.Longest Common Substring\n",
        "Given two strings ‘X’ and ‘Y’, find the length of the longest common substring.\n",
        "\n",
        "Examples :\n",
        "\n",
        "Input : X = “GeeksforGeeks”, y = “GeeksQuiz”\n",
        "Output : 5\n",
        "Explanation:\n",
        "The longest common substring is “Geeks” and is of length 5.\n",
        "\n"
      ],
      "metadata": {
        "id": "Mwl8yNrGZijM"
      }
    },
    {
      "cell_type": "code",
      "execution_count": null,
      "metadata": {
        "colab": {
          "base_uri": "https://localhost:8080/"
        },
        "outputId": "e23bef23-373d-4dce-8e40-697b699233a3",
        "id": "vuqXvb_gZ6eo"
      },
      "outputs": [
        {
          "output_type": "stream",
          "name": "stdout",
          "text": [
            "Enter string1: abcde\n",
            "Enter string2: bcdgh\n",
            "Longest common subsequence: 3\n"
          ]
        }
      ],
      "source": [
        "class Solution:\n",
        "  def solv_lcs(self, str1, str2):\n",
        "    len1=len(str1)\n",
        "    len2=len(str2)\n",
        "\n",
        "    #\n",
        "    t=[[0 for j in range(len2)] for i in range(len1)]\n",
        "    #row 1 and coloumn initializtion\n",
        "    if str1[0] == str2[0]:\n",
        "      t[0][0] = 1\n",
        "    else:\n",
        "      t[0][0] = 0\n",
        "    #0th row initialization\n",
        "    for i in range(1, len2):\n",
        "      if str1[0] == str2[i]:\n",
        "        t[0][i] = 1\n",
        "      else:\n",
        "        t[0][i] = 0\n",
        "    #0th col initialization\n",
        "    for i in range(1, len2):\n",
        "      if str1[i] == str2[0]:\n",
        "        t[i][0] = 1\n",
        "      else:\n",
        "        t[i][0] = 0\n",
        "\n",
        "    #choice diagram code\n",
        "    for i in range(1,len1):\n",
        "      for j in range(1,len2):\n",
        "        if str1[i] == str2[j]:\n",
        "          t[i][j] = 1 + t[i-1][j-1]\n",
        "        else:\n",
        "          t[i][j] = max(t[i-1][j], t[i][j-1])\n",
        "    return t[len1 - 1][len2 - 1]\n",
        "\n",
        "obj = Solution()\n",
        "print(f'Longest common subsequence: {obj.solv_lcs(input(\"Enter string1: \"), input(\"Enter string2: \"))}')"
      ]
    },
    {
      "cell_type": "markdown",
      "source": [
        "# 4.Print Shotest SuperSequence\n",
        "Given two strings str1 and str2, return the shortest string that has both str1 and str2 as subsequences. If there are multiple valid strings, return any of them.\n",
        "\n",
        "A string s is a subsequence of string t if deleting some number of characters from t (possibly 0) results in the string s.\n",
        "\n",
        "\n",
        "\n",
        "Example 1:\n",
        "\n",
        "Input: str1 = \"abac\", str2 = \"cab\"\n",
        "Output: \"cabac\"\n",
        "Explanation:\n",
        "str1 = \"abac\" is a subsequence of \"cabac\" because we can delete the first \"c\".\n",
        "str2 = \"cab\" is a subsequence of \"cabac\" because we can delete the last \"ac\".\n",
        "The answer provided is the shortest such string that satisfies these properties.\n",
        "Example 2:\n",
        "\n",
        "Input: str1 = \"aaaaaaaa\", str2 = \"aaaaaaaa\"\n",
        "Output: \"aaaaaaaa\"\n",
        ""
      ],
      "metadata": {
        "id": "rNyHERu8Sezi"
      }
    },
    {
      "cell_type": "code",
      "source": [
        "'''\n",
        "This problem is related to print longest common sequence\n",
        "'''\n",
        "class Solution:\n",
        "  def solv_shortest_supersequence(self, str1, str2):\n",
        "    len1=len(str1)\n",
        "    len2=len(str2)\n",
        "\n",
        "    t=[[0 for j in range(len2+1)] for i in range(len1+1)]\n",
        "    #0th row initialization\n",
        "    for i in range(len2+1):\n",
        "      t[0][i] = 0\n",
        "    #0th col initialization\n",
        "    for i in range(len1+1):\n",
        "      t[i][0] = 0\n",
        "\n",
        "    #choice diagram code\n",
        "    for i in range(1,len1+1):\n",
        "      for j in range(1,len2+1):\n",
        "        if str1[i-1] == str2[j-1]:\n",
        "          t[i][j] = 1 + t[i-1][j-1]\n",
        "        else:\n",
        "          t[i][j] = max(t[i-1][j], t[i][j-1])\n",
        "\n",
        "    lcs_str = []\n",
        "    print(i ,j)\n",
        "    while i > 0 and j > 0:\n",
        "      #print(lcs_str, i, j, t[i-1][j], t[i][j-1], t[i][j])\n",
        "      if str1[i-1] == str2[j-1]:\n",
        "        lcs_str.insert(0,str1[i-1])\n",
        "        i -= 1\n",
        "        j -= 1\n",
        "      elif t[i-1][j]>t[i][j-1]:\n",
        "        lcs_str.insert(0, str1[i-1])\n",
        "        i -= 1\n",
        "      else:\n",
        "        lcs_str.insert(0, str2[j-1])\n",
        "        j -= 1\n",
        "\n",
        "    while i > 0:\n",
        "      lcs_str.insert(0,str1[i-1])\n",
        "      i -= 1\n",
        "    while j > 0:\n",
        "      lcs_str.insert(0,str2[j-1])\n",
        "      j -= 1\n",
        "\n",
        "    return \"\".join(lcs_str)\n",
        "'''\n",
        "Enter string1: bcacaaab\n",
        "Enter string2: bbabaccc\n",
        "'''\n",
        "obj = Solution()\n",
        "print(f'Longest common subsequence: {obj.solv_shortest_supersequence(input(\"Enter string1: \"), input(\"Enter string2: \"))}')"
      ],
      "metadata": {
        "colab": {
          "base_uri": "https://localhost:8080/"
        },
        "id": "RAgLHdHHTNC9",
        "outputId": "ed2a55bc-e0a8-4a4d-8ec3-0d977854d5f2"
      },
      "execution_count": 6,
      "outputs": [
        {
          "output_type": "stream",
          "name": "stdout",
          "text": [
            "Enter string1: abac\n",
            "Enter string2: cab\n",
            "4 3\n",
            "Longest common subsequence: cabac\n"
          ]
        }
      ]
    },
    {
      "cell_type": "markdown",
      "source": [
        "# 5.Print Length Longest Palindromic Subsequence in Given String\n",
        "\n",
        "Given a string s, find the longest palindromic subsequence's length in s.\n",
        "\n",
        "A subsequence is a sequence that can be derived from another sequence by deleting some or no elements without changing the order of the remaining elements.\n",
        "\n",
        "\n",
        "\n",
        "Example 1:\n",
        "\n",
        "Input: s = \"bbbab\"\n",
        "Output: 4\n",
        "Explanation: One possible longest palindromic subsequence is \"bbbb\"."
      ],
      "metadata": {
        "id": "kSwxIcu-X8mU"
      }
    },
    {
      "cell_type": "code",
      "source": [
        "'''\n",
        "This problem is also same as longest common subsequence,\n",
        "But there is a catch we dont have second string here,\n",
        "\n",
        "Hint: Our second string will be reverse string of given string.\n",
        "\n",
        "So the problem will be reduced in problem where\n",
        "we will find length of longest common subsequence between\n",
        "given string and reversed string of given string\n",
        "'''\n",
        "class Solution:\n",
        "  def solv_longest_palindromic_subsequence(self, str1):\n",
        "    len1=len(str1)\n",
        "    str2=str1[::-1]\n",
        "    len2=len(str2)\n",
        "\n",
        "    #\n",
        "    t=[[0 for j in range(len2)] for i in range(len1)]\n",
        "    #row 1 and coloumn initializtion\n",
        "    if str1[0] == str2[0]:\n",
        "      t[0][0] = 1\n",
        "    else:\n",
        "      t[0][0] = 0\n",
        "    #0th row initialization\n",
        "    for i in range(1, len2):\n",
        "      if str1[0] == str2[i]:\n",
        "        t[0][i] = 1\n",
        "      else:\n",
        "        t[0][i] = t[0][i-1]\n",
        "    #0th col initialization\n",
        "    for i in range(1, len2):\n",
        "      if str1[i] == str2[0]:\n",
        "        t[i][0] = 1\n",
        "      else:\n",
        "        t[i][0] = t[i-1][0]\n",
        "\n",
        "    #choice diagram code\n",
        "    for i in range(1,len1):\n",
        "      for j in range(1,len2):\n",
        "        if str1[i] == str2[j]:\n",
        "          t[i][j] = 1 + t[i-1][j-1]\n",
        "        else:\n",
        "          t[i][j] = max(t[i-1][j], t[i][j-1])\n",
        "    return t[len1 - 1][len2 - 1]\n",
        "\n",
        "obj = Solution()\n",
        "print(f'Longest common subsequence: {obj.solv_longest_palindromic_subsequence(input(\"Enter string1: \"))}')"
      ],
      "metadata": {
        "colab": {
          "base_uri": "https://localhost:8080/"
        },
        "id": "hk4wXTfOYVrU",
        "outputId": "5fbadd1a-9f24-4b88-8087-98750946948a"
      },
      "execution_count": 8,
      "outputs": [
        {
          "output_type": "stream",
          "name": "stdout",
          "text": [
            "Enter string1: cbbd\n",
            "Longest common subsequence: 2\n"
          ]
        }
      ]
    }
  ]
}