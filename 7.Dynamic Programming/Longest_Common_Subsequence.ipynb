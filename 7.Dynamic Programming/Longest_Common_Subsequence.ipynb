{
  "nbformat": 4,
  "nbformat_minor": 0,
  "metadata": {
    "colab": {
      "provenance": [],
      "authorship_tag": "ABX9TyOVxW6AOiubXRBMd14uLQR8",
      "include_colab_link": true
    },
    "kernelspec": {
      "name": "python3",
      "display_name": "Python 3"
    },
    "language_info": {
      "name": "python"
    }
  },
  "cells": [
    {
      "cell_type": "markdown",
      "metadata": {
        "id": "view-in-github",
        "colab_type": "text"
      },
      "source": [
        "<a href=\"https://colab.research.google.com/github/Nitin286roxs/DSA-Revision/blob/main/7.Dynamic%20Programming/Longest_Common_Subsequence.ipynb\" target=\"_parent\"><img src=\"https://colab.research.google.com/assets/colab-badge.svg\" alt=\"Open In Colab\"/></a>"
      ]
    },
    {
      "cell_type": "markdown",
      "source": [
        "# 1.Longest Common Subsequence\n",
        "Given two strings text1 and text2, return the length of their longest common subsequence. If there is no common subsequence, return 0.\n",
        "\n",
        "A subsequence of a string is a new string generated from the original string with some characters (can be none) deleted without changing the relative order of the remaining characters.\n",
        "\n",
        "For example, \"ace\" is a subsequence of \"abcde\".\n",
        "A common subsequence of two strings is a subsequence that is common to both strings.\n",
        "\n",
        "\n",
        "\n",
        "Example 1:\n",
        "\n",
        "Input: text1 = \"abcde\", text2 = \"ace\"\n",
        "Output: 3  \n",
        "Explanation: The longest common subsequence is \"ace\" and its length is 3.\n"
      ],
      "metadata": {
        "id": "4V7bzOn_HyAe"
      }
    },
    {
      "cell_type": "code",
      "execution_count": null,
      "metadata": {
        "id": "uJ6g_myMHsnW",
        "colab": {
          "base_uri": "https://localhost:8080/"
        },
        "outputId": "608ac5ba-238b-452d-938c-4b91ff266601"
      },
      "outputs": [
        {
          "output_type": "stream",
          "name": "stdout",
          "text": [
            "Enter string1: abcde\n",
            "Enter string2: ace\n",
            "Longest common subsequence: 3\n"
          ]
        }
      ],
      "source": [
        "class Solution:\n",
        "  def solv_lcs(self, str1, str2):\n",
        "    len1=len(str1)\n",
        "    len2=len(str2)\n",
        "\n",
        "    #\n",
        "    t=[[0 for j in range(len2)] for i in range(len1)]\n",
        "    #row 1 and coloumn initializtion\n",
        "    if str1[0] == str2[0]:\n",
        "      t[0][0] = 1\n",
        "    else:\n",
        "      t[0][0] = 0\n",
        "    #0th row initialization\n",
        "    for i in range(1, len2):\n",
        "      if str1[0] == str2[i]:\n",
        "        t[0][i] = 1\n",
        "      else:\n",
        "        t[0][i] = t[0][i-1]\n",
        "    #0th col initialization\n",
        "    for i in range(1, len2):\n",
        "      if str1[i] == str2[0]:\n",
        "        t[i][0] = 1\n",
        "      else:\n",
        "        t[i][0] = t[i-1][0]\n",
        "\n",
        "    #choice diagram code\n",
        "    for i in range(1,len1):\n",
        "      for j in range(1,len2):\n",
        "        if str1[i] == str2[j]:\n",
        "          t[i][j] = 1 + t[i-1][j-1]\n",
        "        else:\n",
        "          t[i][j] = max(t[i-1][j], t[i][j-1])\n",
        "    return t[len1 - 1][len2 - 1]\n",
        "\n",
        "obj = Solution()\n",
        "print(f'Longest common subsequence: {obj.solv_lcs(input(\"Enter string1: \"), input(\"Enter string2: \"))}')"
      ]
    },
    {
      "cell_type": "markdown",
      "source": [
        "# 2.Print Longest Common Subsequence\n"
      ],
      "metadata": {
        "id": "-SBbyHartqXk"
      }
    },
    {
      "cell_type": "code",
      "source": [
        "class Solution:\n",
        "  def solv_lcs(self, str1, str2):\n",
        "    len1=len(str1)\n",
        "    len2=len(str2)\n",
        "\n",
        "    #\n",
        "    t=[[0 for j in range(len2)] for i in range(len1)]\n",
        "    #row 1 and coloumn initializtion\n",
        "    if str1[0] == str2[0]:\n",
        "      t[0][0] = 1\n",
        "    else:\n",
        "      t[0][0] = 0\n",
        "    #0th row initialization\n",
        "    for i in range(1, len2):\n",
        "      if str1[0] == str2[i]:\n",
        "        t[0][i] = 1\n",
        "      else:\n",
        "        t[0][i] = t[0][i-1]\n",
        "    #0th col initialization\n",
        "    for i in range(1, len2):\n",
        "      if str1[i] == str2[0]:\n",
        "        t[i][0] = 1\n",
        "      else:\n",
        "        t[i][0] = t[i-1][0]\n",
        "\n",
        "    #choice diagram code\n",
        "    for i in range(1,len1):\n",
        "      for j in range(1,len2):\n",
        "        if str1[i] == str2[j]:\n",
        "          t[i][j] = 1 + t[i-1][j-1]\n",
        "        else:\n",
        "          t[i][j] = max(t[i-1][j], t[i][j-1])\n",
        "\n",
        "    lcs_str = []\n",
        "    #print(t, str1, str2, i ,j)\n",
        "    while i >= 0 and j >= 0:\n",
        "      #print(lcs_str, i, j, str1[i], str2[j], t[i-1][j], t[i][j-1], t[i][j])\n",
        "      if str1[i] == str2[j]:\n",
        "        lcs_str.insert(0,str1[i])\n",
        "        i -= 1\n",
        "        j -= 1\n",
        "      elif t[i-1][j]>=t[i][j-1]:\n",
        "        lcs_str.insert(0,str1[i])\n",
        "        i -= 1\n",
        "      else:\n",
        "        lcs_str.insert(0,str2[j])\n",
        "        j -= 1\n",
        "    while i >= 0:\n",
        "      lcs_str.insert(0,str1[i])\n",
        "      i -= 1\n",
        "    while j >= 0:\n",
        "      lcs_str.insert(0,str2[j])\n",
        "      j -= 1\n",
        "\n",
        "    return t[len1 - 1][len2 - 1], lcs_str\n",
        "\n",
        "obj = Solution()\n",
        "print(f'Longest common subsequence: {obj.solv_lcs(input(\"Enter string1: \"), input(\"Enter string2: \"))}')"
      ],
      "metadata": {
        "colab": {
          "base_uri": "https://localhost:8080/"
        },
        "id": "OzAdIcw8tytq",
        "outputId": "4a3027cc-ac81-43c5-a2d3-a49d106fe52f"
      },
      "execution_count": null,
      "outputs": [
        {
          "output_type": "stream",
          "name": "stdout",
          "text": [
            "Enter string1: bcacaaab\n",
            "Enter string2: bbabaccc\n",
            "Longest common subsequence: (3, ['b', 'b', 'a', 'b', 'a', 'c', 'b', 'c', 'a', 'c', 'a', 'a', 'a', 'b'])\n"
          ]
        }
      ]
    },
    {
      "cell_type": "code",
      "source": [
        "li = []\n",
        "li.insert(0, \"a\")\n",
        "li.insert(0, \"b\")\n",
        "print(li)\n"
      ],
      "metadata": {
        "colab": {
          "base_uri": "https://localhost:8080/"
        },
        "id": "d5o5nA70uRdT",
        "outputId": "9cba4e1c-eb1b-4609-f113-962ec46e00d4"
      },
      "execution_count": null,
      "outputs": [
        {
          "output_type": "stream",
          "name": "stdout",
          "text": [
            "['b', 'a']\n"
          ]
        }
      ]
    },
    {
      "cell_type": "markdown",
      "source": [
        "# 2.Longest Common Substring\n",
        "Given two strings ‘X’ and ‘Y’, find the length of the longest common substring.\n",
        "\n",
        "Examples :\n",
        "\n",
        "Input : X = “GeeksforGeeks”, y = “GeeksQuiz”\n",
        "Output : 5\n",
        "Explanation:\n",
        "The longest common substring is “Geeks” and is of length 5.\n",
        "\n"
      ],
      "metadata": {
        "id": "Mwl8yNrGZijM"
      }
    },
    {
      "cell_type": "code",
      "execution_count": null,
      "metadata": {
        "colab": {
          "base_uri": "https://localhost:8080/"
        },
        "outputId": "e23bef23-373d-4dce-8e40-697b699233a3",
        "id": "vuqXvb_gZ6eo"
      },
      "outputs": [
        {
          "output_type": "stream",
          "name": "stdout",
          "text": [
            "Enter string1: abcde\n",
            "Enter string2: bcdgh\n",
            "Longest common subsequence: 3\n"
          ]
        }
      ],
      "source": [
        "class Solution:\n",
        "  def solv_lcs(self, str1, str2):\n",
        "    len1=len(str1)\n",
        "    len2=len(str2)\n",
        "\n",
        "    #\n",
        "    t=[[0 for j in range(len2)] for i in range(len1)]\n",
        "    #row 1 and coloumn initializtion\n",
        "    if str1[0] == str2[0]:\n",
        "      t[0][0] = 1\n",
        "    else:\n",
        "      t[0][0] = 0\n",
        "    #0th row initialization\n",
        "    for i in range(1, len2):\n",
        "      if str1[0] == str2[i]:\n",
        "        t[0][i] = 1\n",
        "      else:\n",
        "        t[0][i] = 0\n",
        "    #0th col initialization\n",
        "    for i in range(1, len2):\n",
        "      if str1[i] == str2[0]:\n",
        "        t[i][0] = 1\n",
        "      else:\n",
        "        t[i][0] = 0\n",
        "\n",
        "    #choice diagram code\n",
        "    for i in range(1,len1):\n",
        "      for j in range(1,len2):\n",
        "        if str1[i] == str2[j]:\n",
        "          t[i][j] = 1 + t[i-1][j-1]\n",
        "        else:\n",
        "          t[i][j] = max(t[i-1][j], t[i][j-1])\n",
        "    return t[len1 - 1][len2 - 1]\n",
        "\n",
        "obj = Solution()\n",
        "print(f'Longest common subsequence: {obj.solv_lcs(input(\"Enter string1: \"), input(\"Enter string2: \"))}')"
      ]
    }
  ]
}