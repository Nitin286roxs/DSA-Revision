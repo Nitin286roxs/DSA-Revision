{
  "nbformat": 4,
  "nbformat_minor": 0,
  "metadata": {
    "colab": {
      "provenance": [],
      "toc_visible": true,
      "authorship_tag": "ABX9TyOgS+2D7k6+RLKuoH4985rK",
      "include_colab_link": true
    },
    "kernelspec": {
      "name": "python3",
      "display_name": "Python 3"
    },
    "language_info": {
      "name": "python"
    }
  },
  "cells": [
    {
      "cell_type": "markdown",
      "metadata": {
        "id": "view-in-github",
        "colab_type": "text"
      },
      "source": [
        "<a href=\"https://colab.research.google.com/github/Nitin286roxs/DSA-Revision/blob/main/7.Dynamic%20Programming/Unbounded_Knapsack.ipynb\" target=\"_parent\"><img src=\"https://colab.research.google.com/assets/colab-badge.svg\" alt=\"Open In Colab\"/></a>"
      ]
    },
    {
      "cell_type": "markdown",
      "source": [
        "# 1.Cutting a Rod\n",
        "Given a rod of length n inches and an array of prices that includes prices of all pieces of size smaller than n. Determine the maximum value obtainable by cutting up the rod and selling the pieces. For example, if the length of the rod is 8 and the values of different pieces are given as the following, then the maximum obtainable value is 22 (by cutting in two pieces of lengths 2 and 6)\n",
        "\n",
        "length   | 1   2   3   4   5   6   7   8  \n",
        "price        | 1   5   8   9  10  17  17  20\n"
      ],
      "metadata": {
        "id": "SxmbzBU7t3_K"
      }
    },
    {
      "cell_type": "code",
      "execution_count": null,
      "metadata": {
        "colab": {
          "base_uri": "https://localhost:8080/"
        },
        "id": "g9Qa6Mhud4Lt",
        "outputId": "4135d5dd-ac2c-4491-93a1-2ec88a0f9535"
      },
      "outputs": [
        {
          "output_type": "stream",
          "name": "stdout",
          "text": [
            "Enter the available peices lenght:1 2 3 4 5 6 7 8\n",
            "Enter the price of peices wrt to their lenght:1 5 8 9 10 17 17 20\n",
            "Enter rod lenth: 8\n",
            "Maximum price achieved : 22\n"
          ]
        }
      ],
      "source": [
        "class Solution:\n",
        "  def rod_cutting(self, total_length, peices, prices):\n",
        "    t = [[0 for j in range(total_length+1)] for i in range(len(peices)+1)]\n",
        "    for i in range(len(peices)+1):\n",
        "      for j in range(total_length+1):\n",
        "        if peices[i -1] <= j:\n",
        "          t[i][j] = max(prices[i-1] + t[i][j-peices[i-1]], t[i-1][j])\n",
        "        else:\n",
        "          t[i][j] = t[i -1][j]\n",
        "    return t[len(peices)][total_length]\n",
        "\n",
        "obj = Solution()\n",
        "peices = [int(x) for x in input(\"Enter the available peices lenght:\").strip().split(' ')]\n",
        "prices = [int(x) for x in input(\"Enter the price of peices wrt to their lenght:\").strip().split(' ')]\n",
        "total_length = int(input(\"Enter rod lenth: \"))\n",
        "print(f\"Maximum price achieved : {obj.rod_cutting(total_length, peices, prices)}\")"
      ]
    },
    {
      "cell_type": "markdown",
      "source": [
        "# 2.Coin Change Problem (Maximum no. of ways to make change the)\n",
        "You are given an integer array coins representing coins of different denominations and an integer amount representing a total amount of money.\n",
        "\n",
        "Return the number of combinations that make up that amount. If that amount of money cannot be made up by any combination of the coins, return 0.\n",
        "\n",
        "You may assume that you have an infinite number of each kind of coin.\n",
        "\n",
        "The answer is guaranteed to fit into a signed 32-bit integer.\n",
        "\n",
        "\n",
        "\n",
        "Example 1:\n",
        "\n",
        "Input: amount = 5, coins = [1,2,5]\n",
        "Output: 4\n",
        "Explanation: there are four ways to make up the amount:\n",
        "5=5\n",
        "5=2+2+1\n",
        "5=2+1+1+1\n",
        "5=1+1+1+1+1"
      ],
      "metadata": {
        "id": "AU1exP_XP1Ry"
      }
    },
    {
      "cell_type": "code",
      "source": [
        "class Solution:\n",
        "    def change(self, amount, coins):\n",
        "        #DP matrix intialization\n",
        "        t = [[0 for j in range(amount + 1)] for i in range(len(coins)+1)]\n",
        "        for i in range(len(coins) + 1):\n",
        "            for j in range(amount + 1):\n",
        "                if i == 0:\n",
        "                    t[i][j] = 0\n",
        "                if j == 0:\n",
        "                    t[i][j] = 1\n",
        "        #choice diagram code\n",
        "        for i in range(1, len(coins) + 1):\n",
        "            for j in range(1, amount + 1):\n",
        "                if coins[i-1] <= j:\n",
        "                    t[i][j] = t[i-1][j] + t[i][j-coins[i-1]]\n",
        "                else:\n",
        "                    t[i][j] = t[i-1][j]\n",
        "        print(t)\n",
        "        return t[len(coins)][amount]"
      ],
      "metadata": {
        "id": "dy1mRk6qRvcM"
      },
      "execution_count": null,
      "outputs": []
    },
    {
      "cell_type": "code",
      "source": [
        "obj = Solution()\n",
        "coins = [ int(x) for x in input(\"Enter available coins of different denominations: \").strip().split(\" \")]\n",
        "amount = int(input(\"Enter the amount for which you want to make change: \"))\n",
        "print(f\"Total no. ways to make change: {obj.change(amount, coins)}\")"
      ],
      "metadata": {
        "colab": {
          "base_uri": "https://localhost:8080/"
        },
        "id": "flYaQtzDR5o3",
        "outputId": "46804cf6-7264-4aef-ffdd-795c83680462"
      },
      "execution_count": null,
      "outputs": [
        {
          "output_type": "stream",
          "name": "stdout",
          "text": [
            "Enter available coins of different denominations: 1 2 5\n",
            "Enter the amount for which you want to make change: 5\n",
            "[[1, 0, 0, 0, 0, 0], [1, 1, 1, 1, 1, 1], [1, 1, 2, 2, 3, 3], [1, 1, 2, 2, 3, 4]]\n",
            "Total no. ways to make change: 4\n"
          ]
        }
      ]
    },
    {
      "cell_type": "markdown",
      "source": [
        "# 3.Coin Change Problem II ( Use Minimum number of coins )\n",
        "You are given an integer array coins representing coins of different denominations and an integer amount representing a total amount of money.\n",
        "\n",
        "Return the fewest number of coins that you need to make up that amount. If that amount of money cannot be made up by any combination of the coins, return -1.\n",
        "\n",
        "You may assume that you have an infinite number of each kind of coin.\n",
        "\n",
        "\n",
        "\n",
        "Example 1:\n",
        "\n",
        "Input: coins = [1,2,5], amount = 11\n",
        "Output: 3\n",
        "Explanation: 11 = 5 + 5 + 1\n"
      ],
      "metadata": {
        "id": "tgW5-GYhT3hk"
      }
    },
    {
      "cell_type": "code",
      "source": [
        "class Solution:\n",
        "    def coinChange(self, coins, amount):\n",
        "        #dp matrix declare\n",
        "        t = [[0 for j in range(amount+1)] for i in range(len(coins)+1)]\n",
        "        int_max = (2**32) -1\n",
        "        for i in range(len(coins)+1):\n",
        "            for j in range(amount+1):\n",
        "                if i == 0:\n",
        "                    t[i][j] = int_max\n",
        "                elif j == 0:\n",
        "                    t[i][j] = 0\n",
        "                if i == 1 and j > 0:\n",
        "                    if coins[0] <= j and j%coins[0] == 0:\n",
        "                        t[i][j] = j//coins[0]\n",
        "                    else:\n",
        "                        t[i][j] = int_max\n",
        "        #print(t)\n",
        "        for i in range(2, len(coins)+1):\n",
        "            for j in range(1, amount+1):\n",
        "                if coins[i-1] <= j:\n",
        "                    t[i][j] = min(t[i][j-coins[i-1]] + 1, t[i-1][j])\n",
        "                else:\n",
        "                    t[i][j] = t[i-1][j]\n",
        "        #print(t[2])\n",
        "        if t[len(coins)][amount] == int_max:\n",
        "            return -1\n",
        "        return t[len(coins)][amount]"
      ],
      "metadata": {
        "id": "RrHN7COkUPJE"
      },
      "execution_count": null,
      "outputs": []
    },
    {
      "cell_type": "code",
      "source": [
        "obj = Solution()\n",
        "coins = [ int(x) for x in input(\"Enter available coins of different denominations: \").strip().split(\" \")]\n",
        "amount = int(input(\"Enter the amount for which you want to make change: \"))\n",
        "print(f\"Total no. ways to make change: {obj.coinChange(coins, amount)}\")"
      ],
      "metadata": {
        "id": "ek3U09SCUXmT"
      },
      "execution_count": null,
      "outputs": []
    }
  ]
}