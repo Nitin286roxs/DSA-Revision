{
  "nbformat": 4,
  "nbformat_minor": 0,
  "metadata": {
    "colab": {
      "provenance": [],
      "include_colab_link": true
    },
    "kernelspec": {
      "name": "python3",
      "display_name": "Python 3"
    },
    "language_info": {
      "name": "python"
    }
  },
  "cells": [
    {
      "cell_type": "markdown",
      "metadata": {
        "id": "view-in-github",
        "colab_type": "text"
      },
      "source": [
        "<a href=\"https://colab.research.google.com/github/Nitin286roxs/DSA-Revision/blob/main/5.Backtracking/Backtracking.ipynb\" target=\"_parent\"><img src=\"https://colab.research.google.com/assets/colab-badge.svg\" alt=\"Open In Colab\"/></a>"
      ]
    },
    {
      "cell_type": "markdown",
      "source": [
        "# Smallest number in K swaps Code and Time Complexity"
      ],
      "metadata": {
        "id": "3Onds42wn0ME"
      }
    },
    {
      "cell_type": "code",
      "execution_count": 1,
      "metadata": {
        "id": "LT9Si2Jxnws1"
      },
      "outputs": [],
      "source": [
        "import math\n",
        "class Solution:\n",
        "    def minInteger(self, num: str, k: int) -> str:\n",
        "        arr = [(x) for x in num]\n",
        "        #print(arr)\n",
        "        result = [int(\"\".join(arr))]\n",
        "        start = 0\n",
        "        self.solv(arr, k, start, result)\n",
        "        print(f\"result: {result}\")\n",
        "        return result[0]\n",
        "\n",
        "    def solv(self, arr, k, start, result):\n",
        "        #Base condition\n",
        "        if k == 0 or start  == len(arr)-1:\n",
        "            return result\n",
        "        #hypothesis\n",
        "        #TODO Find min\n",
        "        min_num = math.inf\n",
        "        for i in range(start + 1, len(arr)):\n",
        "            if int(arr[i]) < min_num:\n",
        "                min_num = int(arr[i])\n",
        "\n",
        "        for i in range(start + 1, len(arr)):\n",
        "            if int(arr[i]) < int(arr[start]) and int(arr[i]) == min_num:\n",
        "                arr[i], arr[start] = arr[start], arr[i]\n",
        "                temp = \"\".join(arr)\n",
        "                #print(f\"temp num: {temp}\")\n",
        "                if int(temp) < result[0]:\n",
        "                    result[0] = int(temp)\n",
        "\n",
        "                self.solv(list(temp), k-1, start+1, result)\n",
        "                arr[i], arr[start] = arr[start], arr[i]\n",
        "        #self.solv(arr, k, start+1, result)"
      ]
    },
    {
      "cell_type": "code",
      "source": [
        "t = int(input(\"How many test casess u want to run:\"))\n",
        "i = 0\n",
        "while i < t:\n",
        "  input_num = input(\"Enter the number to be process: \")\n",
        "  k = int(input(\"Enter the number of swap u want to do: \"))\n",
        "  obj = Solution()\n",
        "  print(f\"Minimum number possible after k swaps:\")\n",
        "  obj.minInteger(input_num, k)\n",
        "  i += 1\n"
      ],
      "metadata": {
        "colab": {
          "base_uri": "https://localhost:8080/"
        },
        "id": "srjJi-jQoB98",
        "outputId": "7d4e2c5b-4a6a-4dbc-8a10-f55770487be4"
      },
      "execution_count": 2,
      "outputs": [
        {
          "output_type": "stream",
          "name": "stdout",
          "text": [
            "How many test casess u want to run:2\n",
            "Enter the number to be process: 12345\n",
            "Enter the number of swap u want to do: 2\n",
            "Minimum number possible after k swaps:\n",
            "result: [12345]\n",
            "Enter the number to be process: 56741\n",
            "Enter the number of swap u want to do: 2\n",
            "Minimum number possible after k swaps:\n",
            "result: [14765]\n"
          ]
        }
      ]
    },
    {
      "cell_type": "markdown",
      "source": [
        "#  N Digit numbers with digits in increasing order\n",
        "Input:  n = 2\n",
        "Output:  \n",
        "01 02 03 04 05 06 07 08 09 12 13 14 15 16 17 18 19 23 24 25 26 27 28\n",
        "29 34 35 36 37 38 39 45 46 47 48 49 56 57 58 59 67 68 69 78 79 89"
      ],
      "metadata": {
        "id": "NvrY2EiCAfBz"
      }
    },
    {
      "cell_type": "code",
      "source": [
        "class Solution:\n",
        "  def generateNums(self, N):\n",
        "    #TODO Call recursive function to solv this problem\n",
        "    all_nums = []\n",
        "    self.solv(N, [], all_nums)\n",
        "    return all_nums\n",
        "  def solv(self, N, ith_num_arr, all_nums):\n",
        "    #TODO Base condtion\n",
        "    #print(N, ith_num_arr, all_nums)\n",
        "    if N  == 0:\n",
        "      all_nums.append(\"\".join(ith_num_arr))\n",
        "      return\n",
        "    #hypothesis\n",
        "    for i in range(10):\n",
        "      #TODO control the flow with condition\n",
        "      if len(ith_num_arr)==0:\n",
        "        ith_num_arr.append(str(i))\n",
        "        self.solv(N-1, ith_num_arr, all_nums)\n",
        "        #backtrack by removing last digit from ith_num_arr\n",
        "        ith_num_arr.pop()\n",
        "      elif i > int(ith_num_arr[-1]):\n",
        "        ith_num_arr.append(str(i))\n",
        "        self.solv(N-1, ith_num_arr, all_nums)\n",
        "        #backtrack by removing last digit from ith_num_arr\n",
        "        ith_num_arr.pop()"
      ],
      "metadata": {
        "id": "yui8a63h6his"
      },
      "execution_count": 3,
      "outputs": []
    },
    {
      "cell_type": "code",
      "source": [
        "obj = Solution()\n",
        "N = int(input(\"Enter the number N:\"))\n",
        "print(obj.generateNums(N))"
      ],
      "metadata": {
        "colab": {
          "base_uri": "https://localhost:8080/"
        },
        "id": "2tLfDwx5GrsO",
        "outputId": "d93b7e97-08a5-4303-8f1f-ca5c492b91dc"
      },
      "execution_count": 4,
      "outputs": [
        {
          "output_type": "stream",
          "name": "stdout",
          "text": [
            "Enter the number N:3\n",
            "['012', '013', '014', '015', '016', '017', '018', '019', '023', '024', '025', '026', '027', '028', '029', '034', '035', '036', '037', '038', '039', '045', '046', '047', '048', '049', '056', '057', '058', '059', '067', '068', '069', '078', '079', '089', '123', '124', '125', '126', '127', '128', '129', '134', '135', '136', '137', '138', '139', '145', '146', '147', '148', '149', '156', '157', '158', '159', '167', '168', '169', '178', '179', '189', '234', '235', '236', '237', '238', '239', '245', '246', '247', '248', '249', '256', '257', '258', '259', '267', '268', '269', '278', '279', '289', '345', '346', '347', '348', '349', '356', '357', '358', '359', '367', '368', '369', '378', '379', '389', '456', '457', '458', '459', '467', '468', '469', '478', '479', '489', '567', '568', '569', '578', '579', '589', '678', '679', '689', '789']\n"
          ]
        }
      ]
    },
    {
      "cell_type": "markdown",
      "source": [
        "# Numbers At Most N Given Digit Set\n",
        "[Numbers At Most N Given Digit Set](https://leetcode.com/problems/numbers-at-most-n-given-digit-set/description/)\n",
        "\n",
        "I got timed out for this problem , only 72 case passed out of 84. May be some other method we can solv it."
      ],
      "metadata": {
        "id": "MSlDBRySKN1O"
      }
    },
    {
      "cell_type": "code",
      "source": [
        "class Solution:\n",
        "  def atMostNGivenDigitSet(self, digits, N, R):\n",
        "    #TODO Call recursive function to solv this problem\n",
        "    all_nums = []\n",
        "    self.solv(N, [], all_nums, digits, R)\n",
        "    print(f\"Number formed with given digits choice: {all_nums}\")\n",
        "    return all_nums\n",
        "  def solv(self, N, ith_num_arr, all_nums, digits, R):\n",
        "    #TODO Base condtion\n",
        "    temp = (\"\".join(ith_num_arr))\n",
        "    #print(N, temp, all_nums, R)\n",
        "    if N == 0:\n",
        "      temp = int(\"\".join(ith_num_arr))\n",
        "      if temp <= R:\n",
        "        all_nums.append(temp)\n",
        "      return\n",
        "    #hypothesis\n",
        "    for i in digits:\n",
        "      ith_num_arr.append(str(i))\n",
        "      self.solv(N-1, ith_num_arr, all_nums, digits, R)\n",
        "      #backtrack by removing last digit from ith_num_arr\n",
        "      ith_num_arr.pop()"
      ],
      "metadata": {
        "id": "KExbQGmYKY5B"
      },
      "execution_count": 5,
      "outputs": []
    },
    {
      "cell_type": "code",
      "source": [
        "obj = Solution()\n",
        "N = (input(\"Enter the number N:\"))\n",
        "digits = [(x) for x in input().strip().split(' ')]\n",
        "total = 0\n",
        "for i in range(1, len(N)+1):\n",
        "  total += len(obj.atMostNGivenDigitSet(digits, i, int(N)))\n",
        "print(total)"
      ],
      "metadata": {
        "colab": {
          "base_uri": "https://localhost:8080/"
        },
        "id": "ZQE_8rYHKlox",
        "outputId": "0fbac757-b565-492b-965a-1c32985636a8"
      },
      "execution_count": 6,
      "outputs": [
        {
          "output_type": "stream",
          "name": "stdout",
          "text": [
            "Enter the number N:2\n",
            "1 3 5 8\n",
            "Number formed with given digits choice: [1]\n",
            "1\n"
          ]
        }
      ]
    },
    {
      "cell_type": "markdown",
      "source": [
        "# Rat in maze problem\n",
        "A Maze is given as N*M binary matrix of blocks and there is a rat initially at (0, 0) ie. maze[0][0] and the rat wants to eat food which is present at some given block in the maze (fx, fy). In a maze matrix, 0 means that the block is a dead end and 1 means that the block can be used in the path from source to destination. The rat can move in any direction (not diagonally) to any block provided the block is not a dead end.\n",
        "\n",
        "The task is to check if there exists any path so that the rat can reach the food or not. It is not needed to print the path.\n",
        "\n",
        "Input : maze[4][5] = {\n",
        "            {1, 0, 1, 1, 0},\n",
        "            {1, 1, 1, 0, 1},\n",
        "            {0, 1, 0, 1, 1},\n",
        "            {1, 1, 1, 1, 1}\n",
        "        }\n",
        "        fx = 2, fy=3\n",
        "Output : Path Found!\n",
        "The path can be: (0, 0) -> (1, 0) -> (1, 1) -> (2, 1) -> (3, 1) -> (3, 2)  -> (3, 3) -> (2, 3)"
      ],
      "metadata": {
        "id": "flmMFCmu-H75"
      }
    },
    {
      "cell_type": "code",
      "source": [
        "class Solution:\n",
        "    def find_path(self, start_x, start_y, maze, result, current_path):\n",
        "        choices = {\"Down\": {\"dx\": 0, \"dy\": 1}, \"Right\": {\"dx\": 1, \"dy\": 0}}\n",
        "        self.solv(start_x, start_y, maze, len(maze), len(maze[0]), choices, result, current_path)\n",
        "        return result\n",
        "    def solv(self, start_x, start_y, maze, row, col, choices, result, current_path):\n",
        "        #base condition\n",
        "        #print(start_x,start_y, row, col, current_path, result)\n",
        "        if start_x == col-1 and start_y == row-1:\n",
        "            print(f'current_path: {current_path}')\n",
        "            result.append(current_path)\n",
        "        #hypothesis\n",
        "        for movement_dir in choices.keys():\n",
        "            new_x = start_x + choices[movement_dir]['dx']\n",
        "            new_y = start_y + choices[movement_dir]['dy']\n",
        "            #check for valid movement if rat can go this dir\n",
        "            if new_x < col and new_y < row:\n",
        "                if maze[new_y][new_x] == 0:\n",
        "                    maze[new_y][new_x] = 1\n",
        "                    current_path.append(movement_dir)\n",
        "                    self.solv(new_x, new_y, maze, row, col, choices, result, current_path)\n",
        "                    #back_track\n",
        "                    current_path.pop()\n",
        "                    maze[new_y][new_x] = 0"
      ],
      "metadata": {
        "id": "MgCgET07_wAy"
      },
      "execution_count": 7,
      "outputs": []
    },
    {
      "cell_type": "code",
      "source": [
        "# Driver code\n",
        "maze = [\n",
        "    [0, 0, 0, 0, 0, 0, 0],\n",
        "    [0, 0, 0, 0, 0, 0, 0],\n",
        "    [0, 0, 0, 0, 0, 0, 0],\n",
        "]\n",
        "m, n = len(maze), len(maze[0])\n",
        "# List to store all the valid paths\n",
        "result = []\n",
        "# Store current path\n",
        "current_path = []\n",
        "obj = Solution()\n",
        "if maze[0][0] != 1 and maze[m - 1][n - 1] != 1:\n",
        "    # Function call to get all valid paths\n",
        "    obj.find_path(0, 0, maze, result, current_path)\n",
        "if not result:\n",
        "    print(-1)\n",
        "else:\n",
        "    print(len(result))"
      ],
      "metadata": {
        "colab": {
          "base_uri": "https://localhost:8080/"
        },
        "id": "uCir8VID-XtK",
        "outputId": "0503924e-0a00-4988-e91e-bc2b90d15c8c"
      },
      "execution_count": 8,
      "outputs": [
        {
          "output_type": "stream",
          "name": "stdout",
          "text": [
            "current_path: ['Down', 'Down', 'Right', 'Right', 'Right', 'Right', 'Right', 'Right']\n",
            "current_path: ['Down', 'Right', 'Down', 'Right', 'Right', 'Right', 'Right', 'Right']\n",
            "current_path: ['Down', 'Right', 'Right', 'Down', 'Right', 'Right', 'Right', 'Right']\n",
            "current_path: ['Down', 'Right', 'Right', 'Right', 'Down', 'Right', 'Right', 'Right']\n",
            "current_path: ['Down', 'Right', 'Right', 'Right', 'Right', 'Down', 'Right', 'Right']\n",
            "current_path: ['Down', 'Right', 'Right', 'Right', 'Right', 'Right', 'Down', 'Right']\n",
            "current_path: ['Down', 'Right', 'Right', 'Right', 'Right', 'Right', 'Right', 'Down']\n",
            "current_path: ['Right', 'Down', 'Down', 'Right', 'Right', 'Right', 'Right', 'Right']\n",
            "current_path: ['Right', 'Down', 'Right', 'Down', 'Right', 'Right', 'Right', 'Right']\n",
            "current_path: ['Right', 'Down', 'Right', 'Right', 'Down', 'Right', 'Right', 'Right']\n",
            "current_path: ['Right', 'Down', 'Right', 'Right', 'Right', 'Down', 'Right', 'Right']\n",
            "current_path: ['Right', 'Down', 'Right', 'Right', 'Right', 'Right', 'Down', 'Right']\n",
            "current_path: ['Right', 'Down', 'Right', 'Right', 'Right', 'Right', 'Right', 'Down']\n",
            "current_path: ['Right', 'Right', 'Down', 'Down', 'Right', 'Right', 'Right', 'Right']\n",
            "current_path: ['Right', 'Right', 'Down', 'Right', 'Down', 'Right', 'Right', 'Right']\n",
            "current_path: ['Right', 'Right', 'Down', 'Right', 'Right', 'Down', 'Right', 'Right']\n",
            "current_path: ['Right', 'Right', 'Down', 'Right', 'Right', 'Right', 'Down', 'Right']\n",
            "current_path: ['Right', 'Right', 'Down', 'Right', 'Right', 'Right', 'Right', 'Down']\n",
            "current_path: ['Right', 'Right', 'Right', 'Down', 'Down', 'Right', 'Right', 'Right']\n",
            "current_path: ['Right', 'Right', 'Right', 'Down', 'Right', 'Down', 'Right', 'Right']\n",
            "current_path: ['Right', 'Right', 'Right', 'Down', 'Right', 'Right', 'Down', 'Right']\n",
            "current_path: ['Right', 'Right', 'Right', 'Down', 'Right', 'Right', 'Right', 'Down']\n",
            "current_path: ['Right', 'Right', 'Right', 'Right', 'Down', 'Down', 'Right', 'Right']\n",
            "current_path: ['Right', 'Right', 'Right', 'Right', 'Down', 'Right', 'Down', 'Right']\n",
            "current_path: ['Right', 'Right', 'Right', 'Right', 'Down', 'Right', 'Right', 'Down']\n",
            "current_path: ['Right', 'Right', 'Right', 'Right', 'Right', 'Down', 'Down', 'Right']\n",
            "current_path: ['Right', 'Right', 'Right', 'Right', 'Right', 'Down', 'Right', 'Down']\n",
            "current_path: ['Right', 'Right', 'Right', 'Right', 'Right', 'Right', 'Down', 'Down']\n",
            "28\n"
          ]
        }
      ]
    },
    {
      "cell_type": "markdown",
      "source": [
        "# All permutation of given string"
      ],
      "metadata": {
        "id": "WA8tWV7075rs"
      }
    },
    {
      "cell_type": "code",
      "source": [
        "class Solution:\n",
        "  def GeneratePermuation(self, input_str):\n",
        "    char_in_str=[ch for ch in input_str]\n",
        "    all_permuts=[]\n",
        "    self.solv(char_in_str, [], len(input_str), all_permuts)\n",
        "    return all_permuts\n",
        "\n",
        "  def solv(self, char_in_str, curr_str, N, all_permuts):\n",
        "    #Base Condition\n",
        "    #print(char_in_str, N, all_permuts )\n",
        "    if N==0:\n",
        "      all_permuts.append(\"\".join(curr_str))\n",
        "      print(curr_str)\n",
        "      return\n",
        "    #hypothesis\n",
        "\n",
        "    for ind in range(len(char_in_str)):\n",
        "      curr_str.append(char_in_str[ind])\n",
        "      popped_char=char_in_str.pop(ind)\n",
        "      self.solv(char_in_str, curr_str, N-1, all_permuts)\n",
        "      #Backtrack\n",
        "      curr_str.pop()\n",
        "      char_in_str.insert(ind, popped_char)\n",
        "\n"
      ],
      "metadata": {
        "id": "BYZPuco18A1K"
      },
      "execution_count": 22,
      "outputs": []
    },
    {
      "cell_type": "code",
      "source": [
        "obj=Solution()\n",
        "print(len(obj.GeneratePermuation(input())))"
      ],
      "metadata": {
        "id": "xGm9OEK_HWCW",
        "outputId": "02e4c1df-b9cd-4886-d587-767f996d1258",
        "colab": {
          "base_uri": "https://localhost:8080/"
        }
      },
      "execution_count": 24,
      "outputs": [
        {
          "output_type": "stream",
          "name": "stdout",
          "text": [
            "STAR\n",
            "['S', 'T', 'A', 'R']\n",
            "['S', 'T', 'R', 'A']\n",
            "['S', 'A', 'T', 'R']\n",
            "['S', 'A', 'R', 'T']\n",
            "['S', 'R', 'T', 'A']\n",
            "['S', 'R', 'A', 'T']\n",
            "['T', 'S', 'A', 'R']\n",
            "['T', 'S', 'R', 'A']\n",
            "['T', 'A', 'S', 'R']\n",
            "['T', 'A', 'R', 'S']\n",
            "['T', 'R', 'S', 'A']\n",
            "['T', 'R', 'A', 'S']\n",
            "['A', 'S', 'T', 'R']\n",
            "['A', 'S', 'R', 'T']\n",
            "['A', 'T', 'S', 'R']\n",
            "['A', 'T', 'R', 'S']\n",
            "['A', 'R', 'S', 'T']\n",
            "['A', 'R', 'T', 'S']\n",
            "['R', 'S', 'T', 'A']\n",
            "['R', 'S', 'A', 'T']\n",
            "['R', 'T', 'S', 'A']\n",
            "['R', 'T', 'A', 'S']\n",
            "['R', 'A', 'S', 'T']\n",
            "['R', 'A', 'T', 'S']\n",
            "24\n"
          ]
        }
      ]
    },
    {
      "cell_type": "markdown",
      "source": [
        "# Find all possible string permution for dialed number if mapping looks like this: {'2': 'abc', '3': 'def', '4': 'ghi', '5': 'jkl','6': 'mno', '7': 'pqrs', '8': 'tuv', '9': 'wxyz'}"
      ],
      "metadata": {
        "id": "JgIyr46-Lj5i"
      }
    },
    {
      "cell_type": "code",
      "source": [
        "import copy\n",
        "def solv(chars, N, msgs, ith_msg):\n",
        "  #Base condition\n",
        "  #print(chars, ith_msg, N, msgs)\n",
        "  if N == 0:\n",
        "    msgs.append(\"\".join(ith_msg))\n",
        "    return\n",
        "  #choice diagram\n",
        "  temp = chars[len(ith_msg)]\n",
        "  ith_keys_chars = [ch for ch in temp]\n",
        "  for ith_ch in ith_keys_chars:\n",
        "    msg=copy.copy(ith_msg)\n",
        "    #print(msg, ith_ch)\n",
        "    msg.append(ith_ch)\n",
        "    solv(chars,N-1, msgs, msg)\n",
        "    msg.pop()"
      ],
      "metadata": {
        "id": "-NIwzg4qMBkj"
      },
      "execution_count": 28,
      "outputs": []
    },
    {
      "cell_type": "code",
      "source": [
        "choice = {'2': 'abc', '3': 'def', '4': 'ghi', '5': 'jkl','6': 'mno', '7': 'pqrs', '8': 'tuv', '9': 'wxyz'}\n",
        "def msg_combinations(input_msg):\n",
        "  chars = [choice[ch] for ch in input_msg]\n",
        "  #\n",
        "  all_msgs = [ ]\n",
        "  curr_msg = [ ]\n",
        "  solv(chars, len(input_msg), all_msgs, curr_msg)\n",
        "  print(all_msgs)\n",
        "msg_combinations(input(\"Enter a numberic combination: \"))"
      ],
      "metadata": {
        "id": "ISYFpnRXMFtY",
        "outputId": "d6c02464-c7e2-4045-c22a-d683225069ee",
        "colab": {
          "base_uri": "https://localhost:8080/"
        }
      },
      "execution_count": 29,
      "outputs": [
        {
          "output_type": "stream",
          "name": "stdout",
          "text": [
            "Enter a numberic combination: 235\n",
            "['adj', 'adk', 'adl', 'aej', 'aek', 'ael', 'afj', 'afk', 'afl', 'bdj', 'bdk', 'bdl', 'bej', 'bek', 'bel', 'bfj', 'bfk', 'bfl', 'cdj', 'cdk', 'cdl', 'cej', 'cek', 'cel', 'cfj', 'cfk', 'cfl']\n"
          ]
        }
      ]
    }
  ]
}