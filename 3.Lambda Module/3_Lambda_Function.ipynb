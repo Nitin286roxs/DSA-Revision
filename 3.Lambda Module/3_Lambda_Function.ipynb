{
  "nbformat": 4,
  "nbformat_minor": 0,
  "metadata": {
    "colab": {
      "provenance": [],
      "authorship_tag": "ABX9TyMQAunTZaspxntfy2OVhAIw",
      "include_colab_link": true
    },
    "kernelspec": {
      "name": "python3",
      "display_name": "Python 3"
    },
    "language_info": {
      "name": "python"
    }
  },
  "cells": [
    {
      "cell_type": "markdown",
      "metadata": {
        "id": "view-in-github",
        "colab_type": "text"
      },
      "source": [
        "<a href=\"https://colab.research.google.com/github/Nitin286roxs/Python-Revision/blob/main/3.Lambda%20Module/3_Lambda_Function.ipynb\" target=\"_parent\"><img src=\"https://colab.research.google.com/assets/colab-badge.svg\" alt=\"Open In Colab\"/></a>"
      ]
    },
    {
      "cell_type": "markdown",
      "source": [
        "# Upper function"
      ],
      "metadata": {
        "id": "I-ogIaXA7Lld"
      }
    },
    {
      "cell_type": "code",
      "execution_count": 1,
      "metadata": {
        "colab": {
          "base_uri": "https://localhost:8080/"
        },
        "id": "wZ3bTU9O65qL",
        "outputId": "f7befc73-a5d1-440b-ecfc-d17e1c75d664"
      },
      "outputs": [
        {
          "output_type": "stream",
          "name": "stdout",
          "text": [
            "GEEKSFORGEEKS\n"
          ]
        }
      ],
      "source": [
        "str1 = 'GeeksforGeeks'\n",
        "\n",
        "upper = lambda string: string.upper()\n",
        "print(upper(str1))"
      ]
    },
    {
      "cell_type": "markdown",
      "source": [
        "# cube function"
      ],
      "metadata": {
        "id": "aGi36GP-7fhy"
      }
    },
    {
      "cell_type": "code",
      "source": [
        "lambda_cube = lambda x: x**3\n",
        "print(lambda_cube(5))"
      ],
      "metadata": {
        "colab": {
          "base_uri": "https://localhost:8080/"
        },
        "id": "0zgn2Wxm7mDI",
        "outputId": "f4b31f28-42de-477a-e7e9-f61c0b34888f"
      },
      "execution_count": 2,
      "outputs": [
        {
          "output_type": "stream",
          "name": "stdout",
          "text": [
            "125\n"
          ]
        }
      ]
    },
    {
      "cell_type": "markdown",
      "source": [
        "# Condition Checking Using Python lambda function\n"
      ],
      "metadata": {
        "id": "R10HoPOx7w3W"
      }
    },
    {
      "cell_type": "code",
      "source": [
        "format_numeric = lambda num : f\"{num:e}\" if isinstance(num,int) else f\"{num:,.2f}\"\n",
        "print(f\"format_numeric(123456789) : {format_numeric(123456789)}\")\n",
        "print(f\"format_numeric(123456789.12345) : {format_numeric(123456789.12345)}\")"
      ],
      "metadata": {
        "colab": {
          "base_uri": "https://localhost:8080/"
        },
        "id": "VXL4iPgp72GF",
        "outputId": "977942d9-982f-47ca-fa40-2f4c71282cea"
      },
      "execution_count": 3,
      "outputs": [
        {
          "output_type": "stream",
          "name": "stdout",
          "text": [
            "format_numeric(123456789) : 1.234568e+08\n",
            "format_numeric(123456789.12345) : 123,456,789.12\n"
          ]
        }
      ]
    },
    {
      "cell_type": "markdown",
      "source": [
        "# Python Lambda Function with List Comprehension\n"
      ],
      "metadata": {
        "id": "BHEQCP3q9A07"
      }
    },
    {
      "cell_type": "code",
      "source": [
        "is_even_list = list(map(lambda x: x * 10 ,[x for x in range(1, 5)]))\n",
        "for item in is_even_list:\n",
        "    print(item)\n",
        "\n",
        "is_even_list = [lambda arg=x: arg * 10 for x in range(1, 5)]\n",
        "for item in is_even_list:\n",
        "    print(item())"
      ],
      "metadata": {
        "colab": {
          "base_uri": "https://localhost:8080/"
        },
        "id": "j0pkv2Nq9Cmr",
        "outputId": "c3a2272f-5932-4dde-9dde-c6da206b0aea"
      },
      "execution_count": 9,
      "outputs": [
        {
          "output_type": "stream",
          "name": "stdout",
          "text": [
            "10\n",
            "20\n",
            "30\n",
            "40\n",
            "10\n",
            "20\n",
            "30\n",
            "40\n"
          ]
        }
      ]
    },
    {
      "cell_type": "markdown",
      "source": [
        "# Python Lambda Function with if-else\n"
      ],
      "metadata": {
        "id": "2ucODgyOAdRU"
      }
    },
    {
      "cell_type": "code",
      "source": [
        "Max = lambda a, b : a if(a > b) else b\n",
        "print(Max(1, 2))"
      ],
      "metadata": {
        "colab": {
          "base_uri": "https://localhost:8080/"
        },
        "id": "xTT7dTkQAh1i",
        "outputId": "ce2b8292-f4ce-44c7-e148-77c18d56151a"
      },
      "execution_count": 10,
      "outputs": [
        {
          "output_type": "stream",
          "name": "stdout",
          "text": [
            "2\n"
          ]
        }
      ]
    },
    {
      "cell_type": "markdown",
      "source": [
        "# Python Lambda with Multiple Statements\n"
      ],
      "metadata": {
        "id": "yAB_54gLAl3f"
      }
    },
    {
      "cell_type": "code",
      "source": [
        "List = [[2,3,4],[1, 4, 16, 64],[3, 6, 9, 12]]\n",
        "sortList = lambda x: (sorted(i) for i in x)\n",
        "secondLargest = lambda x, f : [y[len(y)-2] for y in f(x)]\n",
        "res = secondLargest(List, sortList)\n",
        "print(res)"
      ],
      "metadata": {
        "colab": {
          "base_uri": "https://localhost:8080/"
        },
        "id": "QvKAU1pqAqh4",
        "outputId": "daa680b7-e2ea-4bbf-ea02-d8f7a6caf2e7"
      },
      "execution_count": 11,
      "outputs": [
        {
          "output_type": "stream",
          "name": "stdout",
          "text": [
            "[3, 16, 9]\n"
          ]
        }
      ]
    },
    {
      "cell_type": "markdown",
      "source": [
        "# Filter"
      ],
      "metadata": {
        "id": "H0vevDBnBOWD"
      }
    },
    {
      "cell_type": "code",
      "source": [
        "li = [5, 7, 22, 97, 54, 62, 77, 23, 73, 61]\n",
        "\n",
        "final_list = list(filter(lambda x: (x % 2 != 0), li))\n",
        "print(final_list)"
      ],
      "metadata": {
        "colab": {
          "base_uri": "https://localhost:8080/"
        },
        "id": "9iZ0ehobBTOf",
        "outputId": "dafbc7da-729a-44ee-8fd1-fb5bb243f58b"
      },
      "execution_count": 12,
      "outputs": [
        {
          "output_type": "stream",
          "name": "stdout",
          "text": [
            "[5, 7, 97, 77, 23, 73, 61]\n"
          ]
        }
      ]
    },
    {
      "cell_type": "markdown",
      "source": [
        "# Map"
      ],
      "metadata": {
        "id": "UnIgDyxlBkpS"
      }
    },
    {
      "cell_type": "code",
      "source": [
        "li = [5, 7, 22, 97, 54, 62, 77, 23, 73, 61]\n",
        "\n",
        "final_list = list(map(lambda x: x*2, li))\n",
        "print(final_list)"
      ],
      "metadata": {
        "colab": {
          "base_uri": "https://localhost:8080/"
        },
        "id": "1srOW8KDBomt",
        "outputId": "ebf7296e-12fb-44d8-c243-c4cd408cd74c"
      },
      "execution_count": 13,
      "outputs": [
        {
          "output_type": "stream",
          "name": "stdout",
          "text": [
            "[10, 14, 44, 194, 108, 124, 154, 46, 146, 122]\n"
          ]
        }
      ]
    },
    {
      "cell_type": "markdown",
      "source": [
        "# Transform all elements of a list to upper case using lambda and map() function\n"
      ],
      "metadata": {
        "id": "DQ5IXEU6BwSw"
      }
    },
    {
      "cell_type": "code",
      "source": [
        "animals = ['dog', 'cat', 'parrot', 'rabbit']\n",
        "uppered_animals = list(map(lambda animal: animal.upper(), animals))\n",
        "\n",
        "print(uppered_animals)"
      ],
      "metadata": {
        "colab": {
          "base_uri": "https://localhost:8080/"
        },
        "id": "dFMpMHzmB12u",
        "outputId": "b21b90e9-46c6-4ced-a71e-fc83437ee5ee"
      },
      "execution_count": 14,
      "outputs": [
        {
          "output_type": "stream",
          "name": "stdout",
          "text": [
            "['DOG', 'CAT', 'PARROT', 'RABBIT']\n"
          ]
        }
      ]
    },
    {
      "cell_type": "markdown",
      "source": [
        "# Reduce"
      ],
      "metadata": {
        "id": "Fn_NQKNiB9x7"
      }
    },
    {
      "cell_type": "code",
      "source": [
        "from functools import reduce\n",
        "li = [5, 8, 10, 20, 50, 100]\n",
        "sum = reduce((lambda x, y: x + y), li)\n",
        "print(sum)\n",
        "\n",
        "#Find the maximum element in a list using lambda and reduce() function\n",
        "import functools\n",
        "lis = [1, 3, 5, 6, 2]\n",
        "print(\"The maximum element of the list is : \", end=\"\")\n",
        "print(functools.reduce(lambda a, b: a if a > b else b, lis))"
      ],
      "metadata": {
        "colab": {
          "base_uri": "https://localhost:8080/"
        },
        "id": "AJ7FDiIxCAQD",
        "outputId": "66fd5b21-0dd4-4951-c432-c778318df0dd"
      },
      "execution_count": 16,
      "outputs": [
        {
          "output_type": "stream",
          "name": "stdout",
          "text": [
            "193\n",
            "The maximum element of the list is : 6\n"
          ]
        }
      ]
    }
  ]
}