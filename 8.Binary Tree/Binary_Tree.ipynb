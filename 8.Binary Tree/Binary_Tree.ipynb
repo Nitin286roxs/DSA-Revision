{
  "nbformat": 4,
  "nbformat_minor": 0,
  "metadata": {
    "colab": {
      "provenance": [],
      "toc_visible": true,
      "authorship_tag": "ABX9TyMmBlmJEdfi76ISlmsE8iYM",
      "include_colab_link": true
    },
    "kernelspec": {
      "name": "python3",
      "display_name": "Python 3"
    },
    "language_info": {
      "name": "python"
    }
  },
  "cells": [
    {
      "cell_type": "markdown",
      "metadata": {
        "id": "view-in-github",
        "colab_type": "text"
      },
      "source": [
        "<a href=\"https://colab.research.google.com/github/Nitin286roxs/DSA-Revision/blob/main/8.Binary%20Tree/Binary_Tree.ipynb\" target=\"_parent\"><img src=\"https://colab.research.google.com/assets/colab-badge.svg\" alt=\"Open In Colab\"/></a>"
      ]
    },
    {
      "cell_type": "markdown",
      "source": [
        "# Tree Traversal"
      ],
      "metadata": {
        "id": "YsaQwNpO6JnM"
      }
    },
    {
      "cell_type": "markdown",
      "source": [
        "## Depth First Search\n",
        "Depth-First Search (DFS) explores a binary tree by going as deeply as possible along each branch before backtracking.\n",
        "\n",
        "* It starts from the root and explores as deeply as possible along each branch,\n",
        "visiting nodes until it reaches a leaf node. It then backtracks to the most recent unexplored node and continues until all nodes are visited.\n",
        "* The order in which we visit a node determines if that traversal would be preorder, inorder and postorder.\n",
        "* DFS uses recursion or a stack to traverse deeper levels of the tree before visiting nodes at the same level.\n",
        "\n",
        "\n"
      ],
      "metadata": {
        "id": "6ylnchQF6dlL"
      }
    },
    {
      "cell_type": "markdown",
      "source": [
        "## Breadth-First Search (BFS)\n",
        "Breadth-First Search (BFS) explores a binary tree level by level, visiting all nodes at a given level before processing to the next level.\n",
        "\n",
        "* It starts from the root and visits all nodes at level 0, then proceeds to level 1, level 2, and so on. Nodes at a level are visited from left to right.\n",
        "* BFS uses a queue data structure to maintain nodes at each level, ensuring that nodes at higher levels are visited moving to lower levels.\n"
      ],
      "metadata": {
        "id": "Y5Qc50TU-qIN"
      }
    },
    {
      "cell_type": "markdown",
      "source": [
        "## Preorder Traversal\n",
        "Preorder Traversal is the type of Depth First Traversal where nodes are visited in the order: Root, Left then Righ"
      ],
      "metadata": {
        "id": "kHWOJ3CB-7Xf"
      }
    },
    {
      "cell_type": "code",
      "execution_count": 1,
      "metadata": {
        "id": "B6FsMVAs6EW-"
      },
      "outputs": [],
      "source": [
        "# Node class for\n",
        "# the binary tree\n",
        "class Tree:\n",
        "    def __init__(self, val):\n",
        "        self.data = val\n",
        "        self.left = None\n",
        "        self.right = None"
      ]
    },
    {
      "cell_type": "code",
      "source": [
        "# Main function\n",
        "if __name__ == \"__main__\":\n",
        "    # Creating a sample binary tree\n",
        "    root = Tree(1)\n",
        "    root.left = Tree(2)\n",
        "    root.right = Tree(3)\n",
        "    root.left.left = Tree(4)\n",
        "    root.left.right = Tree(5)"
      ],
      "metadata": {
        "id": "EkoAk3cE_oP-"
      },
      "execution_count": 2,
      "outputs": []
    },
    {
      "cell_type": "markdown",
      "source": [
        "## Recursive approach of preorder"
      ],
      "metadata": {
        "id": "3kWtaE8XGZ4n"
      }
    },
    {
      "cell_type": "code",
      "source": [
        "#Recursive Approach Of preorder\n",
        "def preorder(node):\n",
        "  #base condition\n",
        "  if node is None:\n",
        "    return\n",
        "  #hypothesis\n",
        "  print(node.data, end=\" \")\n",
        "  preorder(node.left)\n",
        "  preorder(node.right)\n",
        "preorder(root)"
      ],
      "metadata": {
        "colab": {
          "base_uri": "https://localhost:8080/"
        },
        "id": "ZeJA69D7_94C",
        "outputId": "48743d52-0939-443f-a1d9-dd709aa9f949"
      },
      "execution_count": 3,
      "outputs": [
        {
          "output_type": "stream",
          "name": "stdout",
          "text": [
            "1 2 4 5 3 "
          ]
        }
      ]
    },
    {
      "cell_type": "markdown",
      "source": [
        "## Iterative approach of preoder\n",
        "* Create an empty stack nodeStack and push root node to stack. Do the following while nodeStack is not empty.\n",
        "* Pop an item from the stack and print it.\n",
        "* Push right child of a popped item to stack\n",
        "* Push left child of a popped item to stack\n",
        "\n",
        "NOTE: The right child is pushed before the left child to make sure that the left subtree is processed first."
      ],
      "metadata": {
        "id": "JurEKI82Gg4O"
      }
    },
    {
      "cell_type": "code",
      "source": [
        "#Recursive Approach Of preorder\n",
        "def preorder_iterative(node):\n",
        "  #base condition\n",
        "  if node is None:\n",
        "    return\n",
        "  #hypothesis\n",
        "  stack = []\n",
        "  #push root in stack\n",
        "  stack.append(node)\n",
        "  while len(stack):\n",
        "    #pop top element, print it then push right.node then left node\n",
        "    top_node = stack.pop()\n",
        "    print(top_node.data, end= \" \")\n",
        "    #check for right child first\n",
        "    if top_node.right:\n",
        "      stack.append(top_node.right)\n",
        "    if top_node.left:\n",
        "      stack.append(top_node.left)\n",
        "preorder_iterative(root)"
      ],
      "metadata": {
        "colab": {
          "base_uri": "https://localhost:8080/"
        },
        "id": "so8u48liGlMj",
        "outputId": "9a1873e0-2ebd-4ed3-fc10-8e367af5ada4"
      },
      "execution_count": 4,
      "outputs": [
        {
          "output_type": "stream",
          "name": "stdout",
          "text": [
            "1 2 4 5 3 "
          ]
        }
      ]
    },
    {
      "cell_type": "markdown",
      "source": [
        "## Iterative appoach of Inorder traversal order\n",
        "Inorder Traversal using Stack:\n",
        "As we already know, recursion can also be implemented using stack. Here also we can use a stack to perform inorder traversal of a Binary Tree. Below is the algorithm for traversing a binary tree using stack.\n",
        "\n",
        "* Create an empty stack (say S).\n",
        "* Initialize the current node as root.\n",
        "* Push the current node to S and set current = current->left until current is NULL\n",
        "* If current is NULL and the stack is not empty then:\n",
        "  * Pop the top item from the stack.\n",
        "  * Print the popped item and set current = popped_item->right\n",
        "  Go to step 3.\n",
        "*If current is NULL and the stack is empty then we are done.\n"
      ],
      "metadata": {
        "id": "gcKnfSKtI8PO"
      }
    },
    {
      "cell_type": "code",
      "source": [
        "def inorder_iterative(node):\n",
        "  #base condition\n",
        "  if node is None:\n",
        "    return\n",
        "  #hypothesis\n",
        "  stack = []\n",
        "  curr_node = node\n",
        "  while True:\n",
        "    #if curr node is not None,  push curr_node in stack. Make left child of currnent node as current node\n",
        "    if curr_node is not None:\n",
        "        stack.append(curr_node)\n",
        "        curr_node = curr_node.left\n",
        "    elif len(stack)>0:\n",
        "        #if stack is not empty, pop and print the top element and Make right child of currnent node as current node\n",
        "        curr_node = stack.pop()\n",
        "        print(curr_node.data, end=\" \")\n",
        "        curr_node = curr_node.right\n",
        "    else:\n",
        "        break\n",
        "inorder_iterative(root)\n"
      ],
      "metadata": {
        "colab": {
          "base_uri": "https://localhost:8080/"
        },
        "id": "mwl4Rj2OQIG1",
        "outputId": "26f5dd65-eb3f-4a36-eac4-ed742c30ece4"
      },
      "execution_count": 5,
      "outputs": [
        {
          "output_type": "stream",
          "name": "stdout",
          "text": [
            "4 2 5 1 3 "
          ]
        }
      ]
    },
    {
      "cell_type": "markdown",
      "source": [
        "## Iterative approach of Post Order\n",
        "1. * Create a empty list as stack\n",
        "2. * Make root node as current node\n",
        "3. * Iterate loop till current node is not None or stack is not empty\n",
        "    * If current node is not None, push the current node in stack and make left child of current node as current node\n",
        "    * if current node is None, if stack is not empty then check if top element of stack has right child or not?\n",
        "\n",
        "      * 3.2.1  If there is a right child of stack's top element, then make right child of stack's top element as current node. Go to step 3\n",
        "      * 3.2.2 If there is no right child of stack's top element, pop the top element, print it.\n",
        "      * 3.2.3. Iterate another while loop till stack is not empty and right child of stack's top element is equal to stack's top element, and do the following:\n",
        "\n",
        "        * 3.2.3.1 Make top_element as stack's top element\n",
        "        * 3.2.3.2 Pop the stack's top element\n",
        "        * 3.2.3.3 Print the top_element node's values go to step 3.2.3\n",
        "\n",
        "\n",
        "\n"
      ],
      "metadata": {
        "id": "h4fWcwAddeHy"
      }
    },
    {
      "cell_type": "code",
      "source": [
        "def postorder(root):\n",
        "  if root == None:\n",
        "    return None\n",
        "  else:\n",
        "    stack = []\n",
        "    curr_node = root\n",
        "    while len(stack) > 0 or curr_node != None:\n",
        "      if curr_node is not None:\n",
        "        stack.append(curr_node)\n",
        "        curr_node = curr_node.left\n",
        "      else:\n",
        "        if len(stack)>0:\n",
        "          top_ele = stack[-1]\n",
        "          if top_ele.right != None:\n",
        "            curr_node = top_ele.right\n",
        "          else:\n",
        "            stack.pop()\n",
        "            print(top_ele.data, end=\" \")\n",
        "            while len(stack) > 0 and stack[-1].right == top_ele:\n",
        "              top_ele = stack[-1]\n",
        "              stack.pop()\n",
        "              print(top_ele.data, end=\" \")\n",
        "    return\n",
        "postorder(root)"
      ],
      "metadata": {
        "id": "0ymwOegMQ5dj",
        "colab": {
          "base_uri": "https://localhost:8080/"
        },
        "outputId": "0776a192-b1e4-4f85-a11e-db836722eef7"
      },
      "execution_count": 6,
      "outputs": [
        {
          "output_type": "stream",
          "name": "stdout",
          "text": [
            "4 5 2 3 1 "
          ]
        }
      ]
    },
    {
      "cell_type": "markdown",
      "source": [
        "## Level Order Traversal\n",
        "\n",
        "1. * Create a list to use as queue, append root node in queue\n",
        "2. * Make root node as current node\n",
        "3. * Iterate loop until queue becomes empty\n",
        "    * Pop the rear element from queue, and print it\n",
        "    * Push the left child then right child in queue\n",
        "    * Goto step 3\n"
      ],
      "metadata": {
        "id": "rDk59TYKkpPS"
      }
    },
    {
      "cell_type": "code",
      "source": [
        "def level_order(root):\n",
        "  if root is None:\n",
        "    return None\n",
        "  else:\n",
        "    queue = []\n",
        "    result = []\n",
        "    curr_node = root\n",
        "    level = 0\n",
        "    queue.append([level,curr_node])\n",
        "    while len(queue) > 0:\n",
        "      level, rear_ele = queue.pop(0)\n",
        "      if len(result) == level+1:\n",
        "        result[level].append(rear_ele.data)\n",
        "      else:\n",
        "        result.append([rear_ele.data])\n",
        "      if rear_ele.left is not None:\n",
        "        queue.append([level+1, rear_ele.left])\n",
        "      if rear_ele.right is not None:\n",
        "        queue.append([level+1, rear_ele.right])\n",
        "    print(result)\n",
        "    return\n",
        "level_order(root)"
      ],
      "metadata": {
        "colab": {
          "base_uri": "https://localhost:8080/"
        },
        "id": "W-v5LyuQlzvc",
        "outputId": "6cd4cafc-f844-4e72-afb5-39aecbf07795"
      },
      "execution_count": 7,
      "outputs": [
        {
          "output_type": "stream",
          "name": "stdout",
          "text": [
            "[[1], [2, 3], [4, 5]]\n"
          ]
        }
      ]
    },
    {
      "cell_type": "markdown",
      "source": [
        "## Height of Tree (Recursive)"
      ],
      "metadata": {
        "id": "dK2-QhrEZFuz"
      }
    },
    {
      "cell_type": "code",
      "source": [
        "def BTree_height(root):\n",
        "  if root == None:\n",
        "    return 0\n",
        "  l_height = BTree_height(root.left)\n",
        "  r_height = BTree_height(root.right)\n",
        "  return 1+ max(l_height, r_height)\n",
        "print(f\"Height of Tree:\")\n",
        "BTree_height(root)"
      ],
      "metadata": {
        "colab": {
          "base_uri": "https://localhost:8080/"
        },
        "id": "GwFBHdJAZNFe",
        "outputId": "e2099d26-399a-4286-badc-b76868ed22e6"
      },
      "execution_count": 8,
      "outputs": [
        {
          "output_type": "stream",
          "name": "stdout",
          "text": [
            "Height of Tree:\n"
          ]
        },
        {
          "output_type": "execute_result",
          "data": {
            "text/plain": [
              "3"
            ]
          },
          "metadata": {},
          "execution_count": 8
        }
      ]
    },
    {
      "cell_type": "markdown",
      "source": [
        "## Is Tree Balanced?"
      ],
      "metadata": {
        "id": "2HQiYQJ2aJZW"
      }
    },
    {
      "cell_type": "code",
      "source": [
        "def sub_tree_height(root):\n",
        "  if root == None:\n",
        "    return 0\n",
        "  l_height = sub_tree_height(root.left)\n",
        "  if l_height == -1:\n",
        "    return False\n",
        "  r_height = sub_tree_height(root.right)\n",
        "  if r_height == -1:\n",
        "    return False\n",
        "  if abs(l_height - r_height ) > 1:\n",
        "    return -1\n",
        "  else:\n",
        "    return 1 + max(l_height, r_height)\n",
        "\n",
        "def isBalanced(root):\n",
        "  if root == None:\n",
        "    return 0\n",
        "  l_height = sub_tree_height(root.left)\n",
        "  if l_height == -1:\n",
        "    return False\n",
        "  r_height = sub_tree_height(root.right)\n",
        "  if r_height == -1:\n",
        "    return False\n",
        "  if abs(l_height - r_height ) == 0 or abs(l_height - r_height ) == 1:\n",
        "    return True\n",
        "  else:\n",
        "    return False\n",
        "\n",
        "print(f\"Is tree balanced : \")\n",
        "isBalanced(root)"
      ],
      "metadata": {
        "colab": {
          "base_uri": "https://localhost:8080/"
        },
        "id": "km13OaNHaNuy",
        "outputId": "dae67aec-b67a-4b8e-89b0-e14e2e713edd"
      },
      "execution_count": 10,
      "outputs": [
        {
          "output_type": "stream",
          "name": "stdout",
          "text": [
            "Is tree balanced : \n"
          ]
        },
        {
          "output_type": "execute_result",
          "data": {
            "text/plain": [
              "True"
            ]
          },
          "metadata": {},
          "execution_count": 10
        }
      ]
    }
  ]
}