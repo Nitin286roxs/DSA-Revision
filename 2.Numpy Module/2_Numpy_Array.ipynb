{
  "nbformat": 4,
  "nbformat_minor": 0,
  "metadata": {
    "colab": {
      "provenance": [],
      "authorship_tag": "ABX9TyPmaK4hACYSdpZaESUnpmmy",
      "include_colab_link": true
    },
    "kernelspec": {
      "name": "python3",
      "display_name": "Python 3"
    },
    "language_info": {
      "name": "python"
    }
  },
  "cells": [
    {
      "cell_type": "markdown",
      "metadata": {
        "id": "view-in-github",
        "colab_type": "text"
      },
      "source": [
        "<a href=\"https://colab.research.google.com/github/Nitin286roxs/Python-Revision/blob/main/2.Numpy%20Module/2_Numpy_Array.ipynb\" target=\"_parent\"><img src=\"https://colab.research.google.com/assets/colab-badge.svg\" alt=\"Open In Colab\"/></a>"
      ]
    },
    {
      "cell_type": "markdown",
      "source": [
        "# **Basics of NumPy Arrays**\n",
        "\n",
        "NumPy stands for Numerical Python. It is a Python library used for working with an array. In Python, we use the list for the array but it’s slow to process. NumPy array is a powerful N-dimensional array object and is used in linear algebra, Fourier transform, and random number capabilities. It provides an array object much faster than traditional Python lists.\n",
        "\n",
        "Types of Array:\n",
        "* One Dimensional Array\n",
        "* Multi-Dimensional Array\n",
        "\n",
        "\n"
      ],
      "metadata": {
        "id": "dBo-81bUNM64"
      }
    },
    {
      "cell_type": "code",
      "source": [
        "# prompt:\n",
        "\n",
        "import numpy as np\n",
        "\n",
        "# One Dimensional Array\n",
        "one_dimensional_array = np.array([1, 2, 3, 4, 5])\n",
        "print(\"One Dimensional Array:\")\n",
        "print(one_dimensional_array)\n",
        "\n",
        "# Multi-Dimensional Array\n",
        "multi_dimensional_array = np.array([[1, 2, 3], [4, 5, 6], [7, 8, 9]])\n",
        "print(\"Multi-Dimensional Array:\")\n",
        "print(multi_dimensional_array)\n"
      ],
      "metadata": {
        "colab": {
          "base_uri": "https://localhost:8080/"
        },
        "id": "2u8XUp0_NNHP",
        "outputId": "a7ee9892-37b7-4cd5-e0c5-f2be288441e8"
      },
      "execution_count": 1,
      "outputs": [
        {
          "output_type": "stream",
          "name": "stdout",
          "text": [
            "One Dimensional Array:\n",
            "[1 2 3 4 5]\n",
            "Multi-Dimensional Array:\n",
            "[[1 2 3]\n",
            " [4 5 6]\n",
            " [7 8 9]]\n"
          ]
        }
      ]
    },
    {
      "cell_type": "markdown",
      "source": [
        "# Numpy array from iterable  "
      ],
      "metadata": {
        "id": "kvGRkAYlNzpe"
      }
    },
    {
      "cell_type": "code",
      "source": [
        "iterable = (a*a for a in range(5))\n",
        "arr = np.fromiter(iterable, dtype=float)\n",
        "print(arr)"
      ],
      "metadata": {
        "colab": {
          "base_uri": "https://localhost:8080/"
        },
        "id": "8BeZtUG5OEsd",
        "outputId": "99554881-188c-4940-a6d7-a6485c1cea19"
      },
      "execution_count": 3,
      "outputs": [
        {
          "output_type": "stream",
          "name": "stdout",
          "text": [
            "[ 0.  1.  4.  9. 16.]\n"
          ]
        }
      ]
    },
    {
      "cell_type": "code",
      "source": [
        "string = \"Google Colab\"\n",
        "arr = np.fromiter(string, \"U2\")\n",
        "print(arr)"
      ],
      "metadata": {
        "colab": {
          "base_uri": "https://localhost:8080/"
        },
        "id": "yJ0dT9cPPDLv",
        "outputId": "5876bca7-26b0-431e-e590-16ddd6cc1e89"
      },
      "execution_count": 5,
      "outputs": [
        {
          "output_type": "stream",
          "name": "stdout",
          "text": [
            "['G' 'o' 'o' 'g' 'l' 'e' ' ' 'C' 'o' 'l' 'a' 'b']\n"
          ]
        }
      ]
    },
    {
      "cell_type": "markdown",
      "source": [
        "# Numpy Arrange and linspace function"
      ],
      "metadata": {
        "id": "WJsCrMhFPeSP"
      }
    },
    {
      "cell_type": "code",
      "source": [
        "# prompt:\n",
        "\n",
        "# Numpy Arrange and linspace function\n",
        "\n",
        "# Arrange function\n",
        "print(\"Arrange function:\")\n",
        "arr = np.arange(0, 10, 2)\n",
        "print(arr)\n",
        "\n",
        "# Linspace function\n",
        "print(\"Linspace function:\")\n",
        "arr = np.linspace(3.5, 10, 3)\n",
        "print(arr)\n",
        "\n",
        "\n",
        "arr = np.linspace(3.5, 10, 3, dtype=np.int32)\n",
        "print(arr)\n"
      ],
      "metadata": {
        "colab": {
          "base_uri": "https://localhost:8080/"
        },
        "id": "_8YdlzAgPtd7",
        "outputId": "3556ba4c-a4de-40cd-c3ab-a8ef987df02c"
      },
      "execution_count": 7,
      "outputs": [
        {
          "output_type": "stream",
          "name": "stdout",
          "text": [
            "Arrange function:\n",
            "[0 2 4 6 8]\n",
            "Linspace function:\n",
            "[ 3.5   6.75 10.  ]\n",
            "[ 3  6 10]\n"
          ]
        }
      ]
    },
    {
      "cell_type": "markdown",
      "source": [
        "# Numpy empty, ones and zeros function"
      ],
      "metadata": {
        "id": "6DWBdSYNQXKB"
      }
    },
    {
      "cell_type": "code",
      "source": [
        "# prompt:\n",
        "\n",
        "# Numpy empty, ones and zeros function\n",
        "\n",
        "# Empty function\n",
        "print(\"Empty function:\")\n",
        "arr = np.empty([3, 3])\n",
        "print(arr)\n",
        "\n",
        "# Ones function\n",
        "print(\"Ones function:\")\n",
        "arr = np.ones([3, 3], dtype=np.int32)\n",
        "print(arr)\n",
        "\n",
        "# Zeros function\n",
        "print(\"Zeros function:\")\n",
        "arr = np.zeros([3, 3], dtype=np.int32)\n",
        "print(arr)\n"
      ],
      "metadata": {
        "colab": {
          "base_uri": "https://localhost:8080/"
        },
        "id": "ci4uCHjhQe7g",
        "outputId": "80995843-5da0-4036-a33e-a0df44ddc49b"
      },
      "execution_count": 8,
      "outputs": [
        {
          "output_type": "stream",
          "name": "stdout",
          "text": [
            "Empty function:\n",
            "[[4.74310429e-310 0.00000000e+000 0.00000000e+000]\n",
            " [0.00000000e+000 0.00000000e+000 0.00000000e+000]\n",
            " [0.00000000e+000 0.00000000e+000 0.00000000e+000]]\n",
            "Ones function:\n",
            "[[1 1 1]\n",
            " [1 1 1]\n",
            " [1 1 1]]\n",
            "Zeros function:\n",
            "[[0 0 0]\n",
            " [0 0 0]\n",
            " [0 0 0]]\n"
          ]
        }
      ]
    },
    {
      "cell_type": "markdown",
      "source": [
        "# Numpy Sort with axis function"
      ],
      "metadata": {
        "id": "vkZphZ06Qmy3"
      }
    },
    {
      "cell_type": "code",
      "source": [
        "# prompt:\n",
        "\n",
        "# Numpy Sort with axis function\n",
        "print(\"Sort with axis function:\")\n",
        "arr = np.array([[3, 1, 2], [4, 5, 6], [9, 8, 7]])\n",
        "print(\"Original array:\")\n",
        "print(arr)\n",
        "print(\"Sort along axis 0:\")\n",
        "print(np.sort(arr, axis=0))\n",
        "print(\"Sort along axis 1:\")\n",
        "print(np.sort(arr, axis=1))\n",
        "print(\"Sort along axis -1:\")\n",
        "print(np.sort(arr, axis=-1))\n",
        "\n",
        "print(\"Sort along axis=None:\")\n",
        "print(np.sort(arr, axis=None))"
      ],
      "metadata": {
        "colab": {
          "base_uri": "https://localhost:8080/"
        },
        "id": "tr21oIBkQtsk",
        "outputId": "5d188e80-830c-4062-a270-f547f1ab1036"
      },
      "execution_count": 12,
      "outputs": [
        {
          "output_type": "stream",
          "name": "stdout",
          "text": [
            "Sort with axis function:\n",
            "Original array:\n",
            "[[3 1 2]\n",
            " [4 5 6]\n",
            " [9 8 7]]\n",
            "Sort along axis 0:\n",
            "[[3 1 2]\n",
            " [4 5 6]\n",
            " [9 8 7]]\n",
            "Sort along axis 1:\n",
            "[[1 2 3]\n",
            " [4 5 6]\n",
            " [7 8 9]]\n",
            "Sort along axis -1:\n",
            "[[1 2 3]\n",
            " [4 5 6]\n",
            " [7 8 9]]\n",
            "Sort along axis=None:\n",
            "[1 2 3 4 5 6 7 8 9]\n"
          ]
        }
      ]
    },
    {
      "cell_type": "markdown",
      "source": [
        "# Numpy matrix multiplication"
      ],
      "metadata": {
        "id": "BmW1zm4IReeV"
      }
    },
    {
      "cell_type": "code",
      "source": [
        "# prompt:\n",
        "\n",
        "import numpy as np\n",
        "\n",
        "# Create two matrices\n",
        "matrix_a = np.array([[1, 2, 3], [4, 5, 6]])\n",
        "matrix_b = np.array([[7, 8], [9, 10], [11, 12]])\n",
        "\n",
        "# Perform matrix multiplication\n",
        "result = np.matmul(matrix_a, matrix_b)\n",
        "\n",
        "# Print the result\n",
        "print(\"Matrix multiplication result:\")\n",
        "print(result)\n",
        "\n"
      ],
      "metadata": {
        "colab": {
          "base_uri": "https://localhost:8080/"
        },
        "id": "avDJU9f6RlMW",
        "outputId": "117781e1-db96-4755-9c1e-99846cdc34ec"
      },
      "execution_count": 15,
      "outputs": [
        {
          "output_type": "stream",
          "name": "stdout",
          "text": [
            "Matrix multiplication result:\n",
            "[[ 58  64]\n",
            " [139 154]]\n"
          ]
        }
      ]
    },
    {
      "cell_type": "markdown",
      "source": [
        "# Newaxis function in numpy"
      ],
      "metadata": {
        "id": "zjtnS7tuR3iL"
      }
    },
    {
      "cell_type": "code",
      "source": [
        "arr = np.arange(3,6)\n",
        "print(arr)\n",
        "temp = arr[:, np.newaxis]\n",
        "print(temp, temp.shape)\n",
        "temp = arr[:, np.newaxis, np.newaxis]\n",
        "print(temp, temp.shape)\n",
        "\n",
        "# multiplication\n",
        "arr[:, np.newaxis]*arr"
      ],
      "metadata": {
        "colab": {
          "base_uri": "https://localhost:8080/"
        },
        "id": "gHtBCFozR9HB",
        "outputId": "3da44240-7a6b-449b-b9f0-5bb7f12a3cc8"
      },
      "execution_count": 27,
      "outputs": [
        {
          "output_type": "stream",
          "name": "stdout",
          "text": [
            "[3 4 5]\n",
            "[[3]\n",
            " [4]\n",
            " [5]] (3, 1)\n",
            "[[[3]]\n",
            "\n",
            " [[4]]\n",
            "\n",
            " [[5]]] (3, 1, 1)\n"
          ]
        },
        {
          "output_type": "execute_result",
          "data": {
            "text/plain": [
              "array([[ 9, 12, 15],\n",
              "       [12, 16, 20],\n",
              "       [15, 20, 25]])"
            ]
          },
          "metadata": {},
          "execution_count": 27
        }
      ]
    }
  ]
}