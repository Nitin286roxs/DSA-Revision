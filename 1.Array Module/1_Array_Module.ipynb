{
  "nbformat": 4,
  "nbformat_minor": 0,
  "metadata": {
    "colab": {
      "provenance": [],
      "authorship_tag": "ABX9TyOjzdWJM/BJeEye+v1uSpPU",
      "include_colab_link": true
    },
    "kernelspec": {
      "name": "python3",
      "display_name": "Python 3"
    },
    "language_info": {
      "name": "python"
    }
  },
  "cells": [
    {
      "cell_type": "markdown",
      "metadata": {
        "id": "view-in-github",
        "colab_type": "text"
      },
      "source": [
        "<a href=\"https://colab.research.google.com/github/Nitin286roxs/Python-Revision/blob/main/1.Array%20Module/1_Array_Module.ipynb\" target=\"_parent\"><img src=\"https://colab.research.google.com/assets/colab-badge.svg\" alt=\"Open In Colab\"/></a>"
      ]
    },
    {
      "cell_type": "markdown",
      "source": [
        "### **Other than some generic containers like lists, Python in its definition can also handle containers with specified data types. The array can be handled in Python by a module named “array“. They can be useful when we have to manipulate only specific data type values.**\n"
      ],
      "metadata": {
        "id": "zMJ2zJY8DL4A"
      }
    },
    {
      "cell_type": "code",
      "execution_count": 2,
      "metadata": {
        "id": "EC6DNhNqDAoH"
      },
      "outputs": [],
      "source": [
        "# importing \"array\" for array operations\n",
        "import array"
      ]
    },
    {
      "cell_type": "markdown",
      "source": [
        "Operations on Array in Python\n",
        "Below are some operations that can be performed in an array:\n",
        "\n",
        "* append()\n",
        "* insert()\n",
        "* pop()\n",
        "* remove()\n",
        "* index()\n",
        "* reverse()\n",
        "\n"
      ],
      "metadata": {
        "id": "aTUAUHJfFGwD"
      }
    },
    {
      "cell_type": "code",
      "source": [
        "# prompt:\n",
        "\n",
        "# Creating an array with integer type\n",
        "# initializing an array with array values\n",
        "# using array.array() method\n",
        "array_num = array.array('i', [1, 2, 3, 4, 5, 6, 7, 8, 9])\n",
        "\n",
        "# printing original array\n",
        "print(\"The original array is : \" + str(array_num))\n",
        "\n",
        "# using append() to insert value at end\n",
        "array_num.append(10)\n",
        "\n",
        "# printing result\n",
        "print(\"The array after insertion : \" + str(array_num))\n",
        "\n",
        "# using insert() to insert value at specific position\n",
        "array_num.insert(2, 12)\n",
        "\n",
        "# printing result\n",
        "print(\"The array after insertion at specific position : \" + str(array_num))\n",
        "\n",
        "# using pop() to remove element at end\n",
        "array_num.pop()\n",
        "\n",
        "# printing result\n",
        "print(\"The array after popping element at end : \" + str(array_num))\n",
        "\n",
        "# using remove() to remove specific element\n",
        "array_num.remove(12)\n",
        "\n",
        "# printing result\n",
        "print(\"The array after removing specific element : \" + str(array_num))\n",
        "\n",
        "# using index() to get index of element\n",
        "res = array_num.index(5)\n",
        "\n",
        "# printing result\n",
        "print(\"The index of 5 is : \" + str(res))\n",
        "\n",
        "# using reverse() to reverse the order of elements\n",
        "array_num.reverse()\n",
        "\n",
        "# printing result\n",
        "print(\"The array after reversing : \" + str(array_num))\n"
      ],
      "metadata": {
        "colab": {
          "base_uri": "https://localhost:8080/"
        },
        "id": "3HJGG1CGFApx",
        "outputId": "1ca3f00c-037f-4dd3-c9c8-f99d025b9400"
      },
      "execution_count": 4,
      "outputs": [
        {
          "output_type": "stream",
          "name": "stdout",
          "text": [
            "The original array is : array('i', [1, 2, 3, 4, 5, 6, 7, 8, 9])\n",
            "The array after insertion : array('i', [1, 2, 3, 4, 5, 6, 7, 8, 9, 10])\n",
            "The array after insertion at specific position : array('i', [1, 2, 12, 3, 4, 5, 6, 7, 8, 9, 10])\n",
            "The array after popping element at end : array('i', [1, 2, 12, 3, 4, 5, 6, 7, 8, 9])\n",
            "The array after removing specific element : array('i', [1, 2, 3, 4, 5, 6, 7, 8, 9])\n",
            "The index of 5 is : 4\n",
            "The array after reversing : array('i', [9, 8, 7, 6, 5, 4, 3, 2, 1])\n"
          ]
        }
      ]
    },
    {
      "cell_type": "markdown",
      "source": [
        "# Array itemsize Function\n"
      ],
      "metadata": {
        "id": "j7DE4Jn9F_Ad"
      }
    },
    {
      "cell_type": "markdown",
      "source": [
        "\n",
        "```\n",
        "Type Code,C Type,Python Type,Minimum size in Bytes\n",
        "‘b’,signed char,int,1\n",
        "‘B’,unsigned char,int,1\n",
        "‘u’,Py_UNICODE,Unicode character,4\n",
        "‘h’,signed short,int,2\n",
        "‘H’,unsigned short,int,2\n",
        "‘i’,signed int,int,4\n",
        "‘I’,unsigned int,int,4\n",
        "‘l’,signed long,int,8\n",
        "‘L’,unsigned long,int,8\n",
        "‘q’,signed long long,int,8\n",
        "‘Q’,unsigned long long,int,8\n",
        "‘f’,float,float,4\n",
        "‘d’,double,float,8\n",
        "```\n",
        "+"
      ],
      "metadata": {
        "id": "btItesATHRrR"
      }
    },
    {
      "cell_type": "code",
      "source": [
        "# prompt:\n",
        "\n",
        "import array\n",
        "\n",
        "# Create an array with type code 'b' (signed char)\n",
        "arr = array.array('b', [1, 2, 3, 4, 5])\n",
        "# Print the array's item size in bytes\n",
        "print(f\"Item sizefor {arr.typecode} : {arr.itemsize}\")\n",
        "\n",
        "\n",
        "\n",
        "# Create an array with type code 'B' (Unsigned char)\n",
        "arr = array.array('B', [1, 2, 3, 4, 5])\n",
        "# Print the array's item size in bytes\n",
        "print(f\"Item size for {arr.typecode} : {arr.itemsize}\")\n",
        "\n",
        "\n",
        "# Create an array with type code 'B' (Unicode character)\n",
        "arr= array.array('u',['a', 'b', 'c', 'c'])\n",
        "# Print the array's item size in bytes\n",
        "print(f\"Item size for {arr.typecode} : {arr.itemsize}\")\n",
        "\n",
        "\n",
        "# Create an array with type code 'h' (signed sort)\n",
        "arr = array.array('h', [1, 2, 3, 4, 5])\n",
        "# Print the array's item size in bytes\n",
        "print(f\"Item size for {arr.typecode} : {arr.itemsize}\")\n",
        "\n",
        "\n",
        "\n",
        "# Create an array with type code 'H' (unsigned sort)\n",
        "arr = array.array('H', [1, 2, 3, 4, 5])\n",
        "# Print the array's item size in bytes\n",
        "print(f\"Item size for {arr.typecode} : {arr.itemsize}\")\n",
        "\n",
        "\n",
        "\n",
        "# Create an array with type code 'i' (signed int)\n",
        "arr = array.array('i', [1, 2, 3, 4, 5])\n",
        "# Print the array's item size in bytes\n",
        "print(f\"Item size for {arr.typecode} : {arr.itemsize}\")\n",
        "\n",
        "\n",
        "\n",
        "# Create an array with type code 'I' (unsigned int)\n",
        "arr = array.array('I', [1, 2, 3, 4, 5])\n",
        "# Print the array's item size in bytes\n",
        "print(f\"Item size for {arr.typecode} : {arr.itemsize}\")\n",
        "\n",
        "\n",
        "\n",
        "# Create an array with type code 'l' (signed long)\n",
        "arr = array.array('l', [1, 2, 3, 4, 5])\n",
        "# Print the array's item size in bytes\n",
        "print(f\"Item size for {arr.typecode} : {arr.itemsize}\")\n",
        "\n",
        "\n",
        "# Create an array with type code 'L' (unsigned long)\n",
        "arr = array.array('L', [1, 2, 3, 4, 5])\n",
        "# Print the array's item size in bytes\n",
        "print(f\"Item size for {arr.typecode} : {arr.itemsize}\")\n",
        "\n",
        "\n",
        "# Create an array with type code 'q' (signed long long)\n",
        "arr = array.array('q', [1, 2, 3, 4, 5])\n",
        "# Print the array's item size in bytes\n",
        "print(f\"Item size for {arr.typecode} : {arr.itemsize}\")\n",
        "\n",
        "# Create an array with type code 'Q' (unsigned long long)\n",
        "arr = array.array('Q', [1, 2, 3, 4, 5])\n",
        "# Print the array's item size in bytes\n",
        "print(f\"Item size for {arr.typecode} : {arr.itemsize}\")\n",
        "\n",
        "# Create an array with type code 'f' (float)\n",
        "arr = array.array('f', [1, 2, 3, 4, 5])\n",
        "# Print the array's item size in bytes\n",
        "print(f\"Item size for {arr.typecode} : {arr.itemsize}\")\n",
        "\n",
        "# Create an array with type code 'f' (double)\n",
        "arr = array.array('d', [1, 2, 3, 4, 5])\n",
        "# Print the array's item size in bytes\n",
        "print(f\"Item size for {arr.typecode} : {arr.itemsize}\")\n",
        "\n"
      ],
      "metadata": {
        "colab": {
          "base_uri": "https://localhost:8080/"
        },
        "id": "uTpDnPl_F_q3",
        "outputId": "988820b0-9e4f-4b05-8381-2e8a80ac15e5"
      },
      "execution_count": 11,
      "outputs": [
        {
          "output_type": "stream",
          "name": "stdout",
          "text": [
            "Item sizefor b : 1\n",
            "Item size for B : 1\n",
            "Item size for u : 4\n",
            "Item size for h : 2\n",
            "Item size for H : 2\n",
            "Item size for i : 4\n",
            "Item size for I : 4\n",
            "Item size for l : 8\n",
            "Item size for L : 8\n",
            "Item size for q : 8\n",
            "Item size for Q : 8\n",
            "Item size for f : 4\n",
            "Item size for d : 8\n"
          ]
        }
      ]
    },
    {
      "cell_type": "markdown",
      "source": [
        "# Extend two arrays"
      ],
      "metadata": {
        "id": "IxVpxpYzKdRN"
      }
    },
    {
      "cell_type": "code",
      "source": [
        "arr1 = array.array('i', [1, 2, 3, 4, 5])\n",
        "arr2 = array.array('i', [6, 7, 8, 9, 10])\n",
        "arr1.extend(arr2)\n",
        "print(arr1)"
      ],
      "metadata": {
        "colab": {
          "base_uri": "https://localhost:8080/"
        },
        "id": "00glNZVPKkUn",
        "outputId": "101b6937-b381-4515-a825-918462226b65"
      },
      "execution_count": 12,
      "outputs": [
        {
          "output_type": "stream",
          "name": "stdout",
          "text": [
            "array('i', [1, 2, 3, 4, 5, 6, 7, 8, 9, 10])\n"
          ]
        }
      ]
    },
    {
      "cell_type": "markdown",
      "source": [
        "# Exend an array with list"
      ],
      "metadata": {
        "id": "90CeO-J-KsnK"
      }
    },
    {
      "cell_type": "code",
      "source": [
        "# prompt:\n",
        "\n",
        "import array\n",
        "\n",
        "# Create an array with type code 'i' (signed int)\n",
        "arr1 = array.array('i', [1, 2, 3, 4, 5])\n",
        "\n",
        "# Create a list with some elements\n",
        "list1 = [6, 7, 8, 9, 10]\n",
        "\n",
        "# Extend the array with the list\n",
        "arr1.fromlist(list1)\n",
        "\n",
        "# Print the extended array\n",
        "print(arr1)\n"
      ],
      "metadata": {
        "colab": {
          "base_uri": "https://localhost:8080/"
        },
        "id": "38YNWI1KK3rr",
        "outputId": "7fe326b7-a230-48fb-b4f6-fb742e784ecb"
      },
      "execution_count": 14,
      "outputs": [
        {
          "output_type": "stream",
          "name": "stdout",
          "text": [
            "array('i', [1, 2, 3, 4, 5, 6, 7, 8, 9, 10])\n"
          ]
        }
      ]
    }
  ]
}