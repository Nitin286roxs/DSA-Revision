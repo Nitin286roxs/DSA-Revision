{
  "nbformat": 4,
  "nbformat_minor": 0,
  "metadata": {
    "colab": {
      "provenance": [],
      "authorship_tag": "ABX9TyM8AtU1CyJmzIAZMJOxz6Eq",
      "include_colab_link": true
    },
    "kernelspec": {
      "name": "python3",
      "display_name": "Python 3"
    },
    "language_info": {
      "name": "python"
    }
  },
  "cells": [
    {
      "cell_type": "markdown",
      "metadata": {
        "id": "view-in-github",
        "colab_type": "text"
      },
      "source": [
        "<a href=\"https://colab.research.google.com/github/Nitin286roxs/DSA-Revision/blob/main/6.LinkedList/Linked_List.ipynb\" target=\"_parent\"><img src=\"https://colab.research.google.com/assets/colab-badge.svg\" alt=\"Open In Colab\"/></a>"
      ]
    },
    {
      "cell_type": "markdown",
      "source": [
        "# Add Two Numbers\n",
        "[Add Two Numbers](https://leetcode.com/problems/add-two-numbers/description/)"
      ],
      "metadata": {
        "id": "wCYCN8rqpE-8"
      }
    },
    {
      "cell_type": "code",
      "execution_count": null,
      "metadata": {
        "id": "191cxImjpBrt"
      },
      "outputs": [],
      "source": [
        "#Definition for singly-linked list.\n",
        "class ListNode:\n",
        "  def __init__(self, val=0, next=None):\n",
        "    self.val = val\n",
        "    self.next = next\n",
        "\n",
        "class LinkedList:\n",
        "    def __init__(self):\n",
        "        self.head = None\n",
        "\n",
        "    def reverse(self):\n",
        "        #Reverse Linked List\n",
        "        prev = None\n",
        "        current = self.head\n",
        "        while current is not None:\n",
        "            nxt = current.next\n",
        "            current.next = prev\n",
        "            prev = current\n",
        "            current = nxt\n",
        "        self.head = prev\n",
        "\n",
        "    def push(self, val):\n",
        "        newnode = ListNode(val)\n",
        "        newnode.next = self.head\n",
        "        self.head = newnode\n",
        "    # Utility function to print the LinkedList\n",
        "    def printList(self):\n",
        "        temp = self.head\n",
        "        while(temp):\n",
        "            print(temp.val, end=\" \")\n",
        "            temp = temp.next"
      ]
    },
    {
      "cell_type": "code",
      "source": [
        "class Solution:\n",
        "    def addTwoNumbers(self, temp1: ListNode, temp2: ListNode) -> ListNode:\n",
        "        carry = 0\n",
        "        temp3 = LinkedList()\n",
        "        while temp1 and temp2:\n",
        "            r, carry = (int(temp1.val) + int(temp2.val) + carry )%10, (int(temp1.val) + int(temp2.val) + carry)//10\n",
        "            #push r in List3\n",
        "            temp3.push(r)\n",
        "            temp1 = temp1.next\n",
        "            temp2 = temp2.next\n",
        "        while temp1:\n",
        "            r, carry = (int(temp1.val) + carry )%10, (int(temp1.val) + carry )//10\n",
        "            #push r in List3\n",
        "            temp3.push(r)\n",
        "            temp1 = temp1.next\n",
        "        while temp2:\n",
        "            r, carry = (int(temp2.val) + carry )%10, (int(temp2.val) + carry)//10\n",
        "            #push r in List3\n",
        "            temp3.push(r)\n",
        "            temp2 = temp2.next\n",
        "        if carry > 0:\n",
        "            #push r in List3\n",
        "            temp3.push(carry)\n",
        "        #Reverse Linked List\n",
        "        temp3.reverse()\n",
        "        return temp3"
      ],
      "metadata": {
        "id": "r_7K_AB3tWRt"
      },
      "execution_count": null,
      "outputs": []
    },
    {
      "cell_type": "code",
      "source": [
        "# Driver code\n",
        "llist = LinkedList()\n",
        "llist.push(20)\n",
        "llist.push(4)\n",
        "llist.push(15)\n",
        "llist.push(85)\n",
        "\n",
        "print (\"Given linked list\")\n",
        "llist.printList()\n",
        "llist.reverse()\n",
        "print (\"\\nReversed linked list\")\n",
        "llist.printList()"
      ],
      "metadata": {
        "colab": {
          "base_uri": "https://localhost:8080/"
        },
        "id": "ytQEEUFvpqYz",
        "outputId": "0da44e21-67f0-46ee-977a-cc20738b936c"
      },
      "execution_count": null,
      "outputs": [
        {
          "output_type": "stream",
          "name": "stdout",
          "text": [
            "Given linked list\n",
            "85 15 4 20 \n",
            "Reversed linked list\n",
            "20 4 15 85 "
          ]
        }
      ]
    },
    {
      "cell_type": "code",
      "source": [
        "# Driver code\n",
        "llist1 = LinkedList()\n",
        "llist1.push(2)\n",
        "llist1.push(4)\n",
        "llist1.push(1)\n",
        "llist1.push(8)\n",
        "\n",
        "# Driver code\n",
        "llist2 = LinkedList()\n",
        "llist2.push(2)\n",
        "llist2.push(4)\n",
        "llist2.push(1)\n",
        "llist2.push(8)\n",
        "\n",
        "\n",
        "obj = Solution()\n",
        "obj.addTwoNumbers(llist1.head, llist2.head).printList()"
      ],
      "metadata": {
        "colab": {
          "base_uri": "https://localhost:8080/"
        },
        "id": "pI0Toya8ql2P",
        "outputId": "0cc73ba7-97a5-44e2-c335-97019ee897bd"
      },
      "execution_count": null,
      "outputs": [
        {
          "output_type": "stream",
          "name": "stdout",
          "text": [
            "6 3 8 4 "
          ]
        }
      ]
    }
  ]
}